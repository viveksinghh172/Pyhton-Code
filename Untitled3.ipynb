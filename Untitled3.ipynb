{
 "cells": [
  {
   "cell_type": "code",
   "execution_count": 2,
   "id": "886a8d6f",
   "metadata": {},
   "outputs": [
    {
     "name": "stdout",
     "output_type": "stream",
     "text": [
      "100\n"
     ]
    }
   ],
   "source": [
    "x = 0\n",
    "while (x < 100):\n",
    "    x = x+2\n",
    "print(x)"
   ]
  },
  {
   "cell_type": "code",
   "execution_count": 4,
   "id": "7bfec7c3",
   "metadata": {},
   "outputs": [
    {
     "name": "stdout",
     "output_type": "stream",
     "text": [
      "10\n",
      "11\n",
      "12\n",
      "13\n"
     ]
    }
   ],
   "source": [
    "for num in range(10, 14):\n",
    "    for i in range(2, num):\n",
    "        if num%i == 1:\n",
    "            print(num)\n",
    "            break"
   ]
  },
  {
   "cell_type": "code",
   "execution_count": 6,
   "id": "5340122a",
   "metadata": {},
   "outputs": [
    {
     "ename": "TypeError",
     "evalue": "len() takes exactly one argument (0 given)",
     "output_type": "error",
     "traceback": [
      "\u001b[1;31m---------------------------------------------------------------------------\u001b[0m",
      "\u001b[1;31mTypeError\u001b[0m                                 Traceback (most recent call last)",
      "\u001b[1;32m<ipython-input-6-adf3103c7c3e>\u001b[0m in \u001b[0;36m<module>\u001b[1;34m\u001b[0m\n\u001b[1;32m----> 1\u001b[1;33m \u001b[0mlen\u001b[0m\u001b[1;33m(\u001b[0m\u001b[1;33m)\u001b[0m\u001b[1;33m\u001b[0m\u001b[1;33m\u001b[0m\u001b[0m\n\u001b[0m",
      "\u001b[1;31mTypeError\u001b[0m: len() takes exactly one argument (0 given)"
     ]
    }
   ],
   "source": [
    " len()"
   ]
  },
  {
   "cell_type": "code",
   "execution_count": 8,
   "id": "056a92f6",
   "metadata": {},
   "outputs": [
    {
     "data": {
      "text/plain": [
       "<function len(obj, /)>"
      ]
     },
     "execution_count": 8,
     "metadata": {},
     "output_type": "execute_result"
    }
   ],
   "source": [
    " len"
   ]
  },
  {
   "cell_type": "code",
   "execution_count": 8,
   "id": "cac0e2d5",
   "metadata": {},
   "outputs": [
    {
     "ename": "NameError",
     "evalue": "name 'multiply' is not defined",
     "output_type": "error",
     "traceback": [
      "\u001b[1;31m---------------------------------------------------------------------------\u001b[0m",
      "\u001b[1;31mNameError\u001b[0m                                 Traceback (most recent call last)",
      "\u001b[1;32m<ipython-input-8-6c88567a6359>\u001b[0m in \u001b[0;36m<module>\u001b[1;34m\u001b[0m\n\u001b[1;32m----> 1\u001b[1;33m \u001b[0mhelp\u001b[0m\u001b[1;33m(\u001b[0m\u001b[0mmultiply\u001b[0m\u001b[1;33m)\u001b[0m\u001b[1;33m\u001b[0m\u001b[1;33m\u001b[0m\u001b[0m\n\u001b[0m",
      "\u001b[1;31mNameError\u001b[0m: name 'multiply' is not defined"
     ]
    }
   ],
   "source": [
    " help(multiply)"
   ]
  },
  {
   "cell_type": "code",
   "execution_count": 14,
   "id": "d158b130",
   "metadata": {},
   "outputs": [
    {
     "name": "stdout",
     "output_type": "stream",
     "text": [
      "Enter a number5\n",
      "120\n"
     ]
    }
   ],
   "source": [
    "#Factorial\n",
    "\n",
    "def fact(num):\n",
    "    if num == 1:\n",
    "        return num\n",
    "    else:\n",
    "        return num*fact(num-1)\n",
    "num = int(input(\"Enter a number\"))\n",
    "print(fact(num))"
   ]
  },
  {
   "cell_type": "code",
   "execution_count": 19,
   "id": "77304b9a",
   "metadata": {},
   "outputs": [
    {
     "name": "stdout",
     "output_type": "stream",
     "text": [
      "Enter first number: 1\n",
      "Enter Second number: 2\n",
      "Enter the number of elements6\n",
      "1 2 3 5 8 13 "
     ]
    }
   ],
   "source": [
    "# Fibonacci Series\n",
    "\n",
    "a = int(input(\"Enter first number: \"))\n",
    "b = int(input(\"Enter Second number: \"))\n",
    "n = int(input(\"Enter the number of elements\"))\n",
    "print(a,b,end=\" \")\n",
    "while n-2:\n",
    "    c = a+b\n",
    "    a = b\n",
    "    b = c\n",
    "    print(c,end=\" \")\n",
    "    n = n-1\n"
   ]
  },
  {
   "cell_type": "code",
   "execution_count": 23,
   "id": "c05078d8",
   "metadata": {},
   "outputs": [
    {
     "name": "stdout",
     "output_type": "stream",
     "text": [
      "Enter a number: 153\n",
      "Armstrong\n"
     ]
    }
   ],
   "source": [
    "# Armstrong\n",
    "\n",
    "num = int(input(\"Enter a number: \"))\n",
    "sum = 0\n",
    "temp = num\n",
    "while temp > 0:\n",
    "    c = temp%10\n",
    "    sum = sum+c*c*c\n",
    "    temp = temp//10\n",
    "if sum == num:\n",
    "    print(\"Armstrong\")\n",
    "else:\n",
    "    print(\"Not Armstrong\")\n"
   ]
  },
  {
   "cell_type": "code",
   "execution_count": 26,
   "id": "9a325d4b",
   "metadata": {},
   "outputs": [
    {
     "name": "stdout",
     "output_type": "stream",
     "text": [
      "Enter the list size: 5\n",
      "Enter values: 1\n",
      "Enter values: 3\n",
      "Enter values: 5\n",
      "Enter values: 7\n",
      "Enter values: 9\n",
      "Total Even:  0\n",
      "Total Odd:  5\n"
     ]
    }
   ],
   "source": [
    "# Total odd and even numbers in a list\n",
    "\n",
    "a= []\n",
    "size = int(input(\"Enter the list size: \"))\n",
    "for i in range(size):\n",
    "    val = int(input(\"Enter values: \"))\n",
    "    a.append(val)\n",
    "even = odd = 0\n",
    "for i in range(size):\n",
    "    if a[i]%2 == 0:\n",
    "        even = even+1\n",
    "    else:\n",
    "        odd = odd+1\n",
    "print(\"Total Even: \",even)\n",
    "print(\"Total Odd: \",odd)\n",
    "    "
   ]
  },
  {
   "cell_type": "code",
   "execution_count": null,
   "id": "bbd62795",
   "metadata": {},
   "outputs": [],
   "source": [
    "# Calculator\n",
    "\n",
    "def add(num1,num2):\n",
    "    return num1 + num2\n",
    "def sub(num1,num2):\n",
    "    return num1 - num2\n",
    "def mul(num1,num2):\n",
    "    return num1 * num2\n",
    "def div(num1,num2):\n",
    "    return num1/num2\n",
    "num1 = input(\"Enter First number: \")\n",
    "num2 = input(\"Enter second number: \")\n",
    "# res = add,sub,mul,div(num1,num2)\n",
    "print(add(num1,num2))\n",
    "    "
   ]
  },
  {
   "cell_type": "code",
   "execution_count": null,
   "id": "b732cb59",
   "metadata": {},
   "outputs": [],
   "source": [
    "print(add(num1,num2))"
   ]
  },
  {
   "cell_type": "code",
   "execution_count": null,
   "id": "27308c71",
   "metadata": {},
   "outputs": [],
   "source": [
    "# Counting Frequency of a number\n",
    "\n",
    "a = []\n",
    "size = int(input(\"Enter the size of list: \"))\n",
    "for i in range(size):\n",
    "    val = int(input(\"Enter values: \"))\n",
    "    a.append(val)\n",
    "number = int(input(\"Enter a number for counting: \"))\n",
    "count = 0\n",
    "for i in range(size):\n",
    "    if a[i] == number:\n",
    "        count = count+l\n",
    "print(\"Total frequency of number is: \",count)"
   ]
  },
  {
   "cell_type": "code",
   "execution_count": null,
   "id": "c4ce8bb9",
   "metadata": {},
   "outputs": [],
   "source": []
  },
  {
   "cell_type": "code",
   "execution_count": null,
   "id": "13a0fccd",
   "metadata": {},
   "outputs": [],
   "source": [
    "# Product of digits of a number:\n",
    "\n",
    "num = int(input(\"Enter a number: \"))\n",
    "prod = 1\n",
    "while num >= 0:\n",
    "    prod = prod * num%10\n",
    "    num = num//10\n",
    "print(\"Product is: \",prod)"
   ]
  },
  {
   "cell_type": "code",
   "execution_count": null,
   "id": "92adc0a8",
   "metadata": {},
   "outputs": [],
   "source": [
    "#Reverse String\n",
    "\n",
    "str1 = input()"
   ]
  }
 ],
 "metadata": {
  "kernelspec": {
   "display_name": "Python 3",
   "language": "python",
   "name": "python3"
  }
 },
 "nbformat": 4,
 "nbformat_minor": 5
}
