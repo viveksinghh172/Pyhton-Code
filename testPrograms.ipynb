{
 "cells": [
  {
   "cell_type": "code",
   "execution_count": null,
   "id": "d5d69675",
   "metadata": {},
   "outputs": [],
   "source": [
    "# Calculator\n",
    "\n",
    "def add(num1,num2):\n",
    "    return num1 + num2\n",
    "def sub(num1,num2):\n",
    "    return num1 - num2\n",
    "def mul(num1,num2):\n",
    "    return num1 * num2\n",
    "def div(num1,num2):\n",
    "    return num1/num2\n",
    "num1 = int(input(\"Enter First number: \"))\n",
    "num2 = int(input(\"Enter second number: \"))\n",
    "# res = add,sub,mul,div(num1,num2)\n",
    "print(add(num1,num2))"
   ]
  },
  {
   "cell_type": "code",
   "execution_count": null,
   "id": "c7dbaba0",
   "metadata": {},
   "outputs": [],
   "source": [
    "#Prime Number\n",
    "\n",
    "num = int(input(\"Enter a Number: \"))\n",
    "for i in range(i+1,num):\n",
    "    if num%i == 0:\n",
    "        print(\"Not a prime number\")\n",
    "    else:\n",
    "        print(\"Prime\")\n",
    "    break"
   ]
  },
  {
   "cell_type": "code",
   "execution_count": null,
   "id": "d37cf226",
   "metadata": {},
   "outputs": [],
   "source": [
    "# Prime\n",
    "\n",
    "number = int(input(\"Enter a number: \"))\n",
    "flag = 0\n",
    "if number > 1:\n",
    "    for i in range(2,number):\n",
    "        if (number%i == 0):\n",
    "            flag = 1\n",
    "            #break\n",
    "if flag == 0:\n",
    "    print(\"Prime\")\n",
    "else:\n",
    "    print(\"Not\")"
   ]
  },
  {
   "cell_type": "code",
   "execution_count": null,
   "id": "2453318b",
   "metadata": {},
   "outputs": [],
   "source": [
    "#Finding a particular Number\n",
    "\n",
    "a = []\n",
    "size = int(input(\"Enter the list size: \"))\n",
    "for i in range(size):\n",
    "    val = int(input(\"Enter values: \"))\n",
    "    a.append(val)\n",
    "number = int(input('Enter a number to find: '))\n",
    "flag = 0\n",
    "for i in range(size):\n",
    "    if a[i] == number:\n",
    "        flag = 1\n",
    "        pos = i+1\n",
    "        break\n",
    "if flag == 1:\n",
    "    print(\"Number is found at\",pos,\"position\")\n",
    "else:\n",
    "    print(\"Number is not available\")"
   ]
  },
  {
   "cell_type": "code",
   "execution_count": null,
   "id": "db1012f5",
   "metadata": {},
   "outputs": [],
   "source": []
  },
  {
   "cell_type": "code",
   "execution_count": null,
   "id": "e66678ec",
   "metadata": {},
   "outputs": [],
   "source": [
    "# Counting Frequency of a number\n",
    "\n",
    "a = []\n",
    "size = int(input(\"Enter the size of list: \"))\n",
    "for i in range(size):\n",
    "    val = int(input(\"Enter values: \"))\n",
    "    a.append(val)\n",
    "number = int(input(\"Enter a number for counting: \"))\n",
    "count = 0\n",
    "for i in range(size):\n",
    "    if a[i] == number:\n",
    "        count = count+1\n",
    "print(\"Total frequency of number is: \",count)"
   ]
  },
  {
   "cell_type": "code",
   "execution_count": 70,
   "id": "8362a2fa",
   "metadata": {},
   "outputs": [
    {
     "ename": "KeyboardInterrupt",
     "evalue": "Interrupted by user",
     "output_type": "error",
     "traceback": [
      "\u001b[1;31m---------------------------------------------------------------------------\u001b[0m",
      "\u001b[1;31mKeyboardInterrupt\u001b[0m                         Traceback (most recent call last)",
      "\u001b[1;32m<ipython-input-70-8669372833c8>\u001b[0m in \u001b[0;36m<module>\u001b[1;34m\u001b[0m\n\u001b[0;32m      2\u001b[0m \u001b[1;33m\u001b[0m\u001b[0m\n\u001b[0;32m      3\u001b[0m \u001b[1;31m#name = \"ViVe@123\"\u001b[0m\u001b[1;33m\u001b[0m\u001b[1;33m\u001b[0m\u001b[1;33m\u001b[0m\u001b[0m\n\u001b[1;32m----> 4\u001b[1;33m \u001b[0mname\u001b[0m \u001b[1;33m=\u001b[0m \u001b[0minput\u001b[0m\u001b[1;33m(\u001b[0m\u001b[1;34m\"Enter anything: \"\u001b[0m\u001b[1;33m)\u001b[0m\u001b[1;33m\u001b[0m\u001b[1;33m\u001b[0m\u001b[0m\n\u001b[0m\u001b[0;32m      5\u001b[0m \u001b[0mupper\u001b[0m \u001b[1;33m=\u001b[0m \u001b[0mlower\u001b[0m \u001b[1;33m=\u001b[0m \u001b[0mdigit\u001b[0m \u001b[1;33m=\u001b[0m \u001b[0mspecial\u001b[0m \u001b[1;33m=\u001b[0m \u001b[1;36m0\u001b[0m\u001b[1;33m\u001b[0m\u001b[1;33m\u001b[0m\u001b[0m\n\u001b[0;32m      6\u001b[0m \u001b[1;32mfor\u001b[0m \u001b[0mi\u001b[0m \u001b[1;32min\u001b[0m \u001b[0mrange\u001b[0m\u001b[1;33m(\u001b[0m\u001b[0mlen\u001b[0m\u001b[1;33m(\u001b[0m\u001b[0mname\u001b[0m\u001b[1;33m)\u001b[0m\u001b[1;33m)\u001b[0m\u001b[1;33m:\u001b[0m\u001b[1;33m\u001b[0m\u001b[1;33m\u001b[0m\u001b[0m\n",
      "\u001b[1;32m~\\anaconda3\\lib\\site-packages\\ipykernel\\kernelbase.py\u001b[0m in \u001b[0;36mraw_input\u001b[1;34m(self, prompt)\u001b[0m\n\u001b[0;32m    858\u001b[0m                 \u001b[1;34m\"raw_input was called, but this frontend does not support input requests.\"\u001b[0m\u001b[1;33m\u001b[0m\u001b[1;33m\u001b[0m\u001b[0m\n\u001b[0;32m    859\u001b[0m             )\n\u001b[1;32m--> 860\u001b[1;33m         return self._input_request(str(prompt),\n\u001b[0m\u001b[0;32m    861\u001b[0m             \u001b[0mself\u001b[0m\u001b[1;33m.\u001b[0m\u001b[0m_parent_ident\u001b[0m\u001b[1;33m,\u001b[0m\u001b[1;33m\u001b[0m\u001b[1;33m\u001b[0m\u001b[0m\n\u001b[0;32m    862\u001b[0m             \u001b[0mself\u001b[0m\u001b[1;33m.\u001b[0m\u001b[0m_parent_header\u001b[0m\u001b[1;33m,\u001b[0m\u001b[1;33m\u001b[0m\u001b[1;33m\u001b[0m\u001b[0m\n",
      "\u001b[1;32m~\\anaconda3\\lib\\site-packages\\ipykernel\\kernelbase.py\u001b[0m in \u001b[0;36m_input_request\u001b[1;34m(self, prompt, ident, parent, password)\u001b[0m\n\u001b[0;32m    902\u001b[0m             \u001b[1;32mexcept\u001b[0m \u001b[0mKeyboardInterrupt\u001b[0m\u001b[1;33m:\u001b[0m\u001b[1;33m\u001b[0m\u001b[1;33m\u001b[0m\u001b[0m\n\u001b[0;32m    903\u001b[0m                 \u001b[1;31m# re-raise KeyboardInterrupt, to truncate traceback\u001b[0m\u001b[1;33m\u001b[0m\u001b[1;33m\u001b[0m\u001b[1;33m\u001b[0m\u001b[0m\n\u001b[1;32m--> 904\u001b[1;33m                 \u001b[1;32mraise\u001b[0m \u001b[0mKeyboardInterrupt\u001b[0m\u001b[1;33m(\u001b[0m\u001b[1;34m\"Interrupted by user\"\u001b[0m\u001b[1;33m)\u001b[0m \u001b[1;32mfrom\u001b[0m \u001b[1;32mNone\u001b[0m\u001b[1;33m\u001b[0m\u001b[1;33m\u001b[0m\u001b[0m\n\u001b[0m\u001b[0;32m    905\u001b[0m             \u001b[1;32mexcept\u001b[0m \u001b[0mException\u001b[0m \u001b[1;32mas\u001b[0m \u001b[0me\u001b[0m\u001b[1;33m:\u001b[0m\u001b[1;33m\u001b[0m\u001b[1;33m\u001b[0m\u001b[0m\n\u001b[0;32m    906\u001b[0m                 \u001b[0mself\u001b[0m\u001b[1;33m.\u001b[0m\u001b[0mlog\u001b[0m\u001b[1;33m.\u001b[0m\u001b[0mwarning\u001b[0m\u001b[1;33m(\u001b[0m\u001b[1;34m\"Invalid Message:\"\u001b[0m\u001b[1;33m,\u001b[0m \u001b[0mexc_info\u001b[0m\u001b[1;33m=\u001b[0m\u001b[1;32mTrue\u001b[0m\u001b[1;33m)\u001b[0m\u001b[1;33m\u001b[0m\u001b[1;33m\u001b[0m\u001b[0m\n",
      "\u001b[1;31mKeyboardInterrupt\u001b[0m: Interrupted by user"
     ]
    }
   ],
   "source": [
    "# Find the number of upper, lower, digit and speciala\n",
    "\n",
    "#name = \"ViVe@123\"\n",
    "name = input(\"Enter anything: \")\n",
    "upper = lower = digit = special = 0\n",
    "for i in range(len(name)):\n",
    "    if name[i] >= 'A' and name[i] <= 'Z':\n",
    "        upper = upper+1\n",
    "    elif name[i] >= 'a' and name[i] <= 'z':\n",
    "        lower = lower+1\n",
    "    elif name[i] >= '0' and name[i]<= '9':\n",
    "        digit = digit+1\n",
    "    else:\n",
    "        special = special+1\n",
    "print(\"Upper: \",upper)\n",
    "print(\"Lower: \",lower)\n",
    "print(\"Digit: \",digit)\n",
    "print(\"Special: \",special)"
   ]
  },
  {
   "cell_type": "code",
   "execution_count": null,
   "id": "9fb186cb",
   "metadata": {},
   "outputs": [],
   "source": [
    "# Sum of digits of a given number:\n",
    "\n",
    "num = int(input(\"Enter a number: \"))\n",
    "sum = 0\n",
    "while num > 0:\n",
    "    sum = sum + num%10\n",
    "    num = num//10\n",
    "print(\"Sum is: \",sum)"
   ]
  },
  {
   "cell_type": "code",
   "execution_count": null,
   "id": "9ad8cebf",
   "metadata": {},
   "outputs": [],
   "source": [
    "# Sum of square of digits of a number\n",
    "\n",
    "x = int(input(\"Enter a number: \"))\n",
    "sum = 0\n",
    "while x > 0:\n",
    "    sum = sum + x%10 * x%10\n",
    "    x= x//10\n",
    "print(\"Square sum is: \",sum)"
   ]
  },
  {
   "cell_type": "code",
   "execution_count": 67,
   "id": "952db77b",
   "metadata": {},
   "outputs": [
    {
     "name": "stdout",
     "output_type": "stream",
     "text": [
      "Enter a number: 123\n",
      "Product is:  6\n"
     ]
    }
   ],
   "source": [
    "# Product of digits of a number:\n",
    "\n",
    "num = int(input(\"Enter a number: \"))\n",
    "prod = 1\n",
    "while num > 0:\n",
    "    prod = prod * num%10\n",
    "    num = num//10\n",
    "print(\"Product is: \",prod)"
   ]
  },
  {
   "cell_type": "code",
   "execution_count": 69,
   "id": "7fbf589f",
   "metadata": {},
   "outputs": [
    {
     "name": "stdout",
     "output_type": "stream",
     "text": [
      "Enter a number: 1234\n",
      "Revrese is 4321\n"
     ]
    }
   ],
   "source": [
    "# Reverse a number\n",
    "\n",
    "num = int(input(\"Enter a number: \"))\n",
    "rev = 0\n",
    "while num > 0:\n",
    "    rev = rev*10 + num%10\n",
    "    num = num//10\n",
    "print(\"Revrese is\",rev)"
   ]
  },
  {
   "cell_type": "code",
   "execution_count": null,
   "id": "0714ac43",
   "metadata": {},
   "outputs": [],
   "source": []
  },
  {
   "cell_type": "code",
   "execution_count": 72,
   "id": "c8ea1f3b",
   "metadata": {},
   "outputs": [
    {
     "name": "stdout",
     "output_type": "stream",
     "text": [
      "Enter starting range: 10\n",
      "Enter end range: 60\n",
      "Prime numbers between  10 and  60\n",
      "11 13 17 19 23 29 31 37 41 43 47 53 59 "
     ]
    }
   ],
   "source": [
    "# Find all prime numbers in a given range:\n",
    "\n",
    "start = int(input(\"Enter starting range: \"))\n",
    "end = int(input(\"Enter end range: \"))\n",
    "print(\"Prime numbers between \",start,\"and \",end)\n",
    "for i in range(start, end+1):\n",
    "    flag = 0\n",
    "    for j in range(2, i):\n",
    "        if (i%j == 0):\n",
    "            flag = 1\n",
    "            break\n",
    "    if flag == 0:\n",
    "        print(i,end=\" \")"
   ]
  },
  {
   "cell_type": "code",
   "execution_count": 74,
   "id": "47863598",
   "metadata": {},
   "outputs": [
    {
     "name": "stdout",
     "output_type": "stream",
     "text": [
      "Enter a string: dsf\n",
      "Reverse of dsf is  fsd\n"
     ]
    }
   ],
   "source": [
    "#Reverse String\n",
    "\n",
    "str1 = input(\"Enter a string: \")\n",
    "rev = ''\n",
    "for i in range(len(str1)-1,-1,-1):\n",
    "    rev = rev+str1[i]\n",
    "print(\"Reverse of\",str1,\"is \",rev)"
   ]
  },
  {
   "cell_type": "markdown",
   "id": "bd7dce6e",
   "metadata": {},
   "source": [
    "# 1. Swaping values using third variable"
   ]
  },
  {
   "cell_type": "code",
   "execution_count": 2,
   "id": "e190dd6b",
   "metadata": {},
   "outputs": [
    {
     "name": "stdout",
     "output_type": "stream",
     "text": [
      "num1 before swaping: 4\n",
      "num2 before swaping: 7\n",
      "Num1 after swaping:  7\n",
      "Num2 after swaping:  4\n"
     ]
    }
   ],
   "source": [
    "num1 = int(input(\"num1 before swaping: \"))\n",
    "num2= int(input(\"num2 before swaping: \"))\n",
    "temp = num1\n",
    "num1 = num2\n",
    "num2 = temp\n",
    "print(\"Num1 after swaping: \",num1)\n",
    "print(\"Num2 after swaping: \",num2)"
   ]
  },
  {
   "cell_type": "markdown",
   "id": "b8ffdc53",
   "metadata": {},
   "source": [
    "# 2. Program to find common letter b/w two strings!"
   ]
  },
  {
   "cell_type": "code",
   "execution_count": 4,
   "id": "3f2d6ad1",
   "metadata": {},
   "outputs": [
    {
     "name": "stdout",
     "output_type": "stream",
     "text": [
      "Enter first string: hello\n",
      "Enter second string: listen\n",
      "Common letter between both strings is:  {'e', 'l'}\n"
     ]
    }
   ],
   "source": [
    "str1 = input(\"Enter first string: \")\n",
    "str2 = input(\"Enter second string: \")\n",
    "\n",
    "s1 = set(str1)\n",
    "s2 = set(str2)\n",
    "\n",
    "lst = s1 & s2\n",
    "print(\"Common letter between both strings is: \",lst)"
   ]
  },
  {
   "cell_type": "markdown",
   "id": "35726926",
   "metadata": {},
   "source": [
    "# 3. Program to count frequency of words in a string!"
   ]
  },
  {
   "cell_type": "code",
   "execution_count": 11,
   "id": "12411ec1",
   "metadata": {},
   "outputs": [
    {
     "name": "stdout",
     "output_type": "stream",
     "text": [
      "Enter string: dhhfg fgsjf sjfas\n",
      "{'dhhfg': 1, 'fgsjf': 1, 'sjfas': 1}"
     ]
    }
   ],
   "source": [
    "str = input(\"Enter string: \")\n",
    "li = str.split()\n",
    "d = {}\n",
    "\n",
    "for i in li:\n",
    "    if i not in d.keys():\n",
    "        d[i] = 0\n",
    "    d[i] = d[i]+1\n",
    "print(d,end=\"\")"
   ]
  },
  {
   "cell_type": "markdown",
   "id": "48d348c3",
   "metadata": {},
   "source": [
    "# Program to print table of a given number!"
   ]
  },
  {
   "cell_type": "code",
   "execution_count": 17,
   "id": "eafa3433",
   "metadata": {},
   "outputs": [
    {
     "name": "stdout",
     "output_type": "stream",
     "text": [
      "Enter a number: 5\n",
      "5\n",
      "10\n",
      "15\n",
      "20\n",
      "25\n",
      "30\n",
      "35\n",
      "40\n",
      "45\n",
      "50\n"
     ]
    }
   ],
   "source": [
    "x = int(input(\"Enter a number: \"))\n",
    "for y in range(1,11):\n",
    "    #x*y = z\n",
    "    print(x*y)"
   ]
  },
  {
   "cell_type": "markdown",
   "id": "90b42cbd",
   "metadata": {},
   "source": [
    "# Enter a message from user and print n times!"
   ]
  },
  {
   "cell_type": "code",
   "execution_count": 1,
   "id": "ba2b137b",
   "metadata": {},
   "outputs": [
    {
     "name": "stdout",
     "output_type": "stream",
     "text": [
      "Enter your message: hii\n",
      "Enter value of N: 5\n",
      "hii\n",
      "hii\n",
      "hii\n",
      "hii\n",
      "hii\n"
     ]
    }
   ],
   "source": [
    "msg = input(\"Enter your message: \")\n",
    "n = int(input(\"Enter value of N: \"))\n",
    "y = 1\n",
    "while y <= n:\n",
    "    print(msg)\n",
    "    y = y+1"
   ]
  },
  {
   "cell_type": "markdown",
   "id": "7c180dc7",
   "metadata": {},
   "source": [
    "# Enter a number from user, for even digits print square sum of digits and cube sum for odd digits"
   ]
  },
  {
   "cell_type": "code",
   "execution_count": 11,
   "id": "46d33573",
   "metadata": {},
   "outputs": [
    {
     "name": "stdout",
     "output_type": "stream",
     "text": [
      "Enter a number: 1234\n",
      "sqsum:  20\n",
      "cbsum:  28\n"
     ]
    }
   ],
   "source": [
    "num = int(input(\"Enter a number: \"))\n",
    "sqsum = 0\n",
    "cbsum = 0\n",
    "while num>0:\n",
    "    if(num%2==0):\n",
    "        #while i>0:\n",
    "        sqsum = sqsum + (num%10) * (num%10)\n",
    "        num = num//10\n",
    "    else:\n",
    "        #while i>0:\n",
    "        cbsum = cbsum + (num%10) * (num%10) * (num%10)\n",
    "        num = num//10\n",
    "print(\"sqsum: \",sqsum)\n",
    "print(\"cbsum: \", cbsum)"
   ]
  }
 ],
 "metadata": {
  "kernelspec": {
   "display_name": "Python 3",
   "language": "python",
   "name": "python3"
  },
  "language_info": {
   "codemirror_mode": {
    "name": "ipython",
    "version": 3
   },
   "file_extension": ".py",
   "mimetype": "text/x-python",
   "name": "python",
   "nbconvert_exporter": "python",
   "pygments_lexer": "ipython3",
   "version": "3.8.8"
  }
 },
 "nbformat": 4,
 "nbformat_minor": 5
}
