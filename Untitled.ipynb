{
 "cells": [
  {
   "cell_type": "code",
   "execution_count": 10,
   "id": "71af193b",
   "metadata": {},
   "outputs": [],
   "source": [
    "a = ('M','i','s','s','i','s','s','i','p','p','i')"
   ]
  },
  {
   "cell_type": "code",
   "execution_count": 15,
   "id": "06cd202d",
   "metadata": {},
   "outputs": [
    {
     "name": "stdout",
     "output_type": "stream",
     "text": [
      "<class 'set'>\n"
     ]
    }
   ],
   "source": [
    "print(type(a))"
   ]
  },
  {
   "cell_type": "code",
   "execution_count": 14,
   "id": "4786ff98",
   "metadata": {},
   "outputs": [
    {
     "name": "stdout",
     "output_type": "stream",
     "text": [
      "{'p', 'i', 's', 'M'}\n"
     ]
    }
   ],
   "source": [
    "print(a)"
   ]
  },
  {
   "cell_type": "code",
   "execution_count": 16,
   "id": "13951fcc",
   "metadata": {},
   "outputs": [],
   "source": [
    "a = ('M','i','s','s','i','s','s','i','p','p','i')"
   ]
  },
  {
   "cell_type": "code",
   "execution_count": 18,
   "id": "4d8e0663",
   "metadata": {},
   "outputs": [
    {
     "name": "stdout",
     "output_type": "stream",
     "text": [
      "<class 'tuple'>\n"
     ]
    }
   ],
   "source": [
    "print(type(a))"
   ]
  },
  {
   "cell_type": "code",
   "execution_count": null,
   "id": "85d1af73",
   "metadata": {},
   "outputs": [],
   "source": [
    "num = (input(\"Enter a number: \"))\n",
    "x = num[::-1]\n",
    "if x==num:\n",
    "    print('palindrome')\n",
    "else:\n",
    "    print('Not palindrome')\n",
    "#print(pal('mjhdfjsd'))"
   ]
  },
  {
   "cell_type": "code",
   "execution_count": 50,
   "id": "447d47a6",
   "metadata": {},
   "outputs": [
    {
     "name": "stdout",
     "output_type": "stream",
     "text": [
      "120\n"
     ]
    }
   ],
   "source": [
    "# Factorial\n",
    "\n",
    "def fact(a):\n",
    "    if a==1:\n",
    "        return a\n",
    "    else:\n",
    "        return a*fact(a-1)\n",
    "print(fact(5))"
   ]
  },
  {
   "cell_type": "code",
   "execution_count": 56,
   "id": "294fcbb9",
   "metadata": {},
   "outputs": [
    {
     "name": "stdout",
     "output_type": "stream",
     "text": [
      "Enter any number:jsagh\n",
      "number is not palindrome\n"
     ]
    }
   ],
   "source": [
    "# palindrome using for loop\n",
    "\n",
    "number=input(\"Enter any number:\")\n",
    "i=0\n",
    "for i in range(len(number)):\n",
    "    if number[i]!=number[i-1]:\n",
    "        print('number is not palindrome')\n",
    "        break\n",
    "    else:\n",
    "        print('number is palindrome')\n",
    "        break"
   ]
  },
  {
   "cell_type": "code",
   "execution_count": 57,
   "id": "75ccb12a",
   "metadata": {},
   "outputs": [
    {
     "name": "stdout",
     "output_type": "stream",
     "text": [
      "printing current and previous number and their sum in a range(10)\n",
      "current number 1 previous_number 0 sum: 1\n",
      "current number 2 previous_number 1 sum: 3\n",
      "current number 3 previous_number 2 sum: 5\n",
      "current number 4 previous_number 3 sum: 7\n",
      "current number 5 previous_number 4 sum: 9\n",
      "current number 6 previous_number 5 sum: 11\n",
      "current number 7 previous_number 6 sum: 13\n",
      "current number 8 previous_number 7 sum: 15\n",
      "current number 9 previous_number 8 sum: 17\n",
      "current number 10 previous_number 9 sum: 19\n"
     ]
    }
   ],
   "source": [
    "print(\"printing current and previous number and their sum in a range(10)\")\n",
    "previous_num=0\n",
    "for i in range(1,11):\n",
    "     x_sum=previous_num+i\n",
    "     print(\"current number\",i,\"previous_number\",previous_num,\"sum:\",previous_num+i)\n",
    "     previous_num=i"
   ]
  }
 ],
 "metadata": {
  "kernelspec": {
   "display_name": "Python 3",
   "language": "python",
   "name": "python3"
  },
  "language_info": {
   "codemirror_mode": {
    "name": "ipython",
    "version": 3
   },
   "file_extension": ".py",
   "mimetype": "text/x-python",
   "name": "python",
   "nbconvert_exporter": "python",
   "pygments_lexer": "ipython3",
   "version": "3.8.8"
  }
 },
 "nbformat": 4,
 "nbformat_minor": 5
}
