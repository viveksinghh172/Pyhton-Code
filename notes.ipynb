{
 "cells": [
  {
   "cell_type": "code",
   "execution_count": 1,
   "id": "3502398e",
   "metadata": {},
   "outputs": [
    {
     "name": "stdout",
     "output_type": "stream",
     "text": [
      "Sum is:  15\n",
      "Minus is:  5\n"
     ]
    }
   ],
   "source": [
    "def sum_minus(a,b):\n",
    "    sum = a+b\n",
    "    minus = a-b\n",
    "    return sum,minus\n",
    "sum,minus = sum_minus(10,5)\n",
    "print(\"Sum is: \",sum)\n",
    "print(\"Minus is: \",minus)"
   ]
  },
  {
   "cell_type": "code",
   "execution_count": 4,
   "id": "bba5007d",
   "metadata": {},
   "outputs": [
    {
     "name": "stdout",
     "output_type": "stream",
     "text": [
      "Result is :  50\n"
     ]
    }
   ],
   "source": [
    "#postional arguments\n",
    "def minus(first,second):\n",
    "    return first-second\n",
    "f = 100\n",
    "s = 50\n",
    "result = minus(f,s)\n",
    "print(\"Result is : \",result)"
   ]
  },
  {
   "cell_type": "code",
   "execution_count": 6,
   "id": "93948ba7",
   "metadata": {},
   "outputs": [
    {
     "name": "stdout",
     "output_type": "stream",
     "text": [
      "Result is:  50\n"
     ]
    }
   ],
   "source": [
    "#keyword argument\n",
    "def minus(first,second):\n",
    "    return first-second\n",
    "f = 100\n",
    "s = 50\n",
    "result = minus(second=s, first=f)\n",
    "print(\"Result is: \",result)"
   ]
  },
  {
   "cell_type": "code",
   "execution_count": 8,
   "id": "99a82cbc",
   "metadata": {},
   "outputs": [
    {
     "name": "stdout",
     "output_type": "stream",
     "text": [
      "Result is:  50\n"
     ]
    }
   ],
   "source": [
    "#positional and keyword arguments\n",
    "def minus(first,second):\n",
    "    return first-second\n",
    "f = 100\n",
    "s = 50\n",
    "result = minus(f,second=s)\n",
    "print(\"Result is: \",result)"
   ]
  },
  {
   "cell_type": "code",
   "execution_count": 10,
   "id": "6c9da438",
   "metadata": {},
   "outputs": [
    {
     "name": "stdout",
     "output_type": "stream",
     "text": [
      "50\n"
     ]
    }
   ],
   "source": [
    "# Default Arguments\n",
    "def cal(num1,num2,choice):\n",
    "    if choice == \"+\":\n",
    "        return num1+num2\n",
    "    elif choice ==\"-\":\n",
    "        return num1-num2\n",
    "    else:\n",
    "        print(\"Invalid Choice\")\n",
    "result = cal(100,50, \"-\")\n",
    "print(result)"
   ]
  },
  {
   "cell_type": "code",
   "execution_count": 14,
   "id": "bafcc3e1",
   "metadata": {},
   "outputs": [
    {
     "name": "stdout",
     "output_type": "stream",
     "text": [
      "Sum of all numbers is:  100\n"
     ]
    }
   ],
   "source": [
    "# Variable length Argument\n",
    "def add(*num):\n",
    "    sum = 0\n",
    "    for i in num:\n",
    "        sum+=i\n",
    "    return sum\n",
    "x = add(10,20,30,40)\n",
    "print(\"Sum of all numbers is: \",x)"
   ]
  },
  {
   "cell_type": "code",
   "execution_count": 21,
   "id": "c697e2ea",
   "metadata": {},
   "outputs": [
    {
     "ename": "SyntaxError",
     "evalue": "'break' outside loop (<ipython-input-21-d5b2b33378e5>, line 5)",
     "output_type": "error",
     "traceback": [
      "\u001b[1;36m  File \u001b[1;32m\"<ipython-input-21-d5b2b33378e5>\"\u001b[1;36m, line \u001b[1;32m5\u001b[0m\n\u001b[1;33m    break\u001b[0m\n\u001b[1;37m    ^\u001b[0m\n\u001b[1;31mSyntaxError\u001b[0m\u001b[1;31m:\u001b[0m 'break' outside loop\n"
     ]
    }
   ],
   "source": [
    "# Positional args with variable length args\n",
    "def search(num,*arr):\n",
    "    for i in arr:\n",
    "        if num == i:\n",
    "            print(\"Found\")\n",
    "            break\n",
    "    else:\n",
    "        print(\"Not found\")\n",
    "search(99, 1,2,3,4,5,99,6,7,89,100)"
   ]
  },
  {
   "cell_type": "code",
   "execution_count": 2,
   "id": "b8677662",
   "metadata": {},
   "outputs": [
    {
     "name": "stdout",
     "output_type": "stream",
     "text": [
      "Found\n"
     ]
    }
   ],
   "source": [
    "#using variable length arg before positional\n",
    "def search(*arr,num):\n",
    "    if num in arr:\n",
    "        print(\"Found\")\n",
    "    else:\n",
    "        print(\"Not found\")\n",
    "search(1,5,99,3,78,100,num=99)"
   ]
  },
  {
   "cell_type": "code",
   "execution_count": 5,
   "id": "8b1aafd1",
   "metadata": {},
   "outputs": [
    {
     "name": "stdout",
     "output_type": "stream",
     "text": [
      "x = 10\n",
      "y = 20\n",
      "z = 30\n",
      "rollno = 101\n",
      "name = Sumit\n",
      "sal = 50000\n"
     ]
    }
   ],
   "source": [
    "#keyword variable length arguments:\n",
    "def func(**kwargs):\n",
    "    for k,v in kwargs.items():\n",
    "        print(k,\"=\",v)\n",
    "func(x=10,y=20,z=30)\n",
    "func(rollno=101, name='Sumit', sal=50000)"
   ]
  },
  {
   "cell_type": "code",
   "execution_count": 9,
   "id": "2a00e0ef",
   "metadata": {},
   "outputs": [
    {
     "name": "stdout",
     "output_type": "stream",
     "text": [
      "satvik\n",
      "satvik\n"
     ]
    }
   ],
   "source": [
    "#Global Variable\n",
    "name = 'satvik'\n",
    "def f1():\n",
    "    print(name) \n",
    "def f2():\n",
    "    print(name)\n",
    "f1()\n",
    "f2()\n"
   ]
  },
  {
   "cell_type": "code",
   "execution_count": 11,
   "id": "c3409be0",
   "metadata": {},
   "outputs": [
    {
     "name": "stdout",
     "output_type": "stream",
     "text": [
      "Aakash\n",
      "Aakash\n"
     ]
    }
   ],
   "source": [
    "#Global Keyword\n",
    "name = \"Saatvik\"\n",
    "def f1():\n",
    "    global name\n",
    "    name = \"Aakash\"\n",
    "    print(name)\n",
    "def f2():\n",
    "    print(name)\n",
    "f1()\n",
    "f2()"
   ]
  },
  {
   "cell_type": "code",
   "execution_count": 13,
   "id": "926f8107",
   "metadata": {},
   "outputs": [
    {
     "name": "stdout",
     "output_type": "stream",
     "text": [
      "Aakash\n",
      "Aakash\n"
     ]
    }
   ],
   "source": [
    "#Global Keyword\n",
    "def f1():\n",
    "    global name\n",
    "    name = \"Aakash\"\n",
    "    print(name)\n",
    "def f2():\n",
    "    print(name)\n",
    "f1()\n",
    "f2()"
   ]
  },
  {
   "cell_type": "code",
   "execution_count": 15,
   "id": "2b7709ba",
   "metadata": {},
   "outputs": [
    {
     "name": "stdout",
     "output_type": "stream",
     "text": [
      "Aakash\n",
      "sanjeev\n"
     ]
    }
   ],
   "source": [
    "#When local ang global variable \n",
    "#name is same\n",
    "name = \"sanjeev\"\n",
    "def f1():\n",
    "    name = \"Aakash\"\n",
    "    print(name)\n",
    "    print(globals()['name'])\n",
    "f1()"
   ]
  },
  {
   "cell_type": "code",
   "execution_count": 20,
   "id": "7e696b42",
   "metadata": {},
   "outputs": [
    {
     "name": "stdout",
     "output_type": "stream",
     "text": [
      "Hello\n",
      "Hello\n"
     ]
    }
   ],
   "source": [
    "# Function Alysing\n",
    "def f1():\n",
    "    print(\"Hello\")\n",
    "fun = f1\n",
    "fun()\n",
    "fun()"
   ]
  },
  {
   "cell_type": "code",
   "execution_count": 1,
   "id": "706cbcea",
   "metadata": {},
   "outputs": [
    {
     "name": "stdout",
     "output_type": "stream",
     "text": [
      "150\n"
     ]
    }
   ],
   "source": [
    "# Nested Function\n",
    "\n",
    "def cal(num1, num2, choice):\n",
    "    def sum():\n",
    "        return num1+num2\n",
    "    def minus():\n",
    "        return num1-num2\n",
    "    def mul():\n",
    "        return num1*num2\n",
    "    def div():\n",
    "        return num1/num2\n",
    "    if choice == \"+\":\n",
    "        return sum()\n",
    "    elif choice == \"-\":\n",
    "        return minus()\n",
    "    elif choice == \"*\":\n",
    "        return mul()\n",
    "    elif choice == \"/\":\n",
    "        return div()\n",
    "    else:\n",
    "        return \"Invalid Choice\"\n",
    "result = cal(100, 50, \"+\")\n",
    "print(result)"
   ]
  },
  {
   "cell_type": "code",
   "execution_count": 18,
   "id": "0c09589c",
   "metadata": {},
   "outputs": [
    {
     "name": "stdout",
     "output_type": "stream",
     "text": [
      "Instance Method\n",
      "Class method\n",
      "Static method\n"
     ]
    }
   ],
   "source": [
    "class Employee:\n",
    "    def f1(self):\n",
    "        print(\"Instance Method\") \n",
    "        #name = abc   ----->Local vvariable\n",
    "    def f2(cls):\n",
    "        print(\"Class method\")\n",
    "    def f3():\n",
    "        print(\"Static method\")\n",
    "\n",
    "emp = Employee()\n",
    "emp.f1()\n",
    "emp.f2()\n",
    "Employee.f3()"
   ]
  },
  {
   "cell_type": "code",
   "execution_count": 1,
   "id": "025d492d",
   "metadata": {
    "scrolled": true
   },
   "outputs": [
    {
     "ename": "NameError",
     "evalue": "name 'instancemethod' is not defined",
     "output_type": "error",
     "traceback": [
      "\u001b[1;31m---------------------------------------------------------------------------\u001b[0m",
      "\u001b[1;31mNameError\u001b[0m                                 Traceback (most recent call last)",
      "\u001b[1;32m<ipython-input-1-846f7d1317a5>\u001b[0m in \u001b[0;36m<module>\u001b[1;34m\u001b[0m\n\u001b[1;32m----> 1\u001b[1;33m \u001b[1;32mclass\u001b[0m \u001b[0mEmployee\u001b[0m\u001b[1;33m:\u001b[0m\u001b[1;33m\u001b[0m\u001b[1;33m\u001b[0m\u001b[0m\n\u001b[0m\u001b[0;32m      2\u001b[0m     \u001b[1;33m@\u001b[0m\u001b[0minstancemethod\u001b[0m\u001b[1;33m\u001b[0m\u001b[1;33m\u001b[0m\u001b[0m\n\u001b[0;32m      3\u001b[0m     \u001b[1;32mdef\u001b[0m \u001b[0mf1\u001b[0m\u001b[1;33m(\u001b[0m\u001b[0mhello\u001b[0m\u001b[1;33m)\u001b[0m\u001b[1;33m:\u001b[0m\u001b[1;33m\u001b[0m\u001b[1;33m\u001b[0m\u001b[0m\n\u001b[0;32m      4\u001b[0m         \u001b[0mprint\u001b[0m\u001b[1;33m(\u001b[0m\u001b[1;34m\"Instance method\"\u001b[0m\u001b[1;33m)\u001b[0m\u001b[1;33m\u001b[0m\u001b[1;33m\u001b[0m\u001b[0m\n\u001b[0;32m      5\u001b[0m     \u001b[1;33m@\u001b[0m\u001b[0mclassmethod\u001b[0m\u001b[1;33m\u001b[0m\u001b[1;33m\u001b[0m\u001b[0m\n",
      "\u001b[1;32m<ipython-input-1-846f7d1317a5>\u001b[0m in \u001b[0;36mEmployee\u001b[1;34m()\u001b[0m\n\u001b[0;32m      1\u001b[0m \u001b[1;32mclass\u001b[0m \u001b[0mEmployee\u001b[0m\u001b[1;33m:\u001b[0m\u001b[1;33m\u001b[0m\u001b[1;33m\u001b[0m\u001b[0m\n\u001b[1;32m----> 2\u001b[1;33m     \u001b[1;33m@\u001b[0m\u001b[0minstancemethod\u001b[0m\u001b[1;33m\u001b[0m\u001b[1;33m\u001b[0m\u001b[0m\n\u001b[0m\u001b[0;32m      3\u001b[0m     \u001b[1;32mdef\u001b[0m \u001b[0mf1\u001b[0m\u001b[1;33m(\u001b[0m\u001b[0mhello\u001b[0m\u001b[1;33m)\u001b[0m\u001b[1;33m:\u001b[0m\u001b[1;33m\u001b[0m\u001b[1;33m\u001b[0m\u001b[0m\n\u001b[0;32m      4\u001b[0m         \u001b[0mprint\u001b[0m\u001b[1;33m(\u001b[0m\u001b[1;34m\"Instance method\"\u001b[0m\u001b[1;33m)\u001b[0m\u001b[1;33m\u001b[0m\u001b[1;33m\u001b[0m\u001b[0m\n\u001b[0;32m      5\u001b[0m     \u001b[1;33m@\u001b[0m\u001b[0mclassmethod\u001b[0m\u001b[1;33m\u001b[0m\u001b[1;33m\u001b[0m\u001b[0m\n",
      "\u001b[1;31mNameError\u001b[0m: name 'instancemethod' is not defined"
     ]
    }
   ],
   "source": [
    "class Employee:\n",
    "    @instancemethod\n",
    "    def f1(hello):\n",
    "        print(\"Instance method\")\n",
    "    @classmethod\n",
    "    def f2(hii):\n",
    "        print(\"Class method\")\n",
    "emp = Employee()\n",
    "emp.f1()\n",
    "Employee.f2()"
   ]
  },
  {
   "cell_type": "code",
   "execution_count": null,
   "id": "f09c66be",
   "metadata": {},
   "outputs": [],
   "source": []
  },
  {
   "cell_type": "code",
   "execution_count": 12,
   "id": "3c84252f",
   "metadata": {},
   "outputs": [
    {
     "name": "stdout",
     "output_type": "stream",
     "text": [
      "Number:  101\n",
      "Name:  Amit\n"
     ]
    }
   ],
   "source": [
    "class Employee:\n",
    "    def __init__(self):\n",
    "        self.eno = 101\n",
    "        self.ename = \"Amit\"\n",
    "employee = Employee()\n",
    "print(\"Number: \",employee.eno)\n",
    "print(\"Name: \",employee.ename)"
   ]
  }
 ],
 "metadata": {
  "kernelspec": {
   "display_name": "Python 3",
   "language": "python",
   "name": "python3"
  },
  "language_info": {
   "codemirror_mode": {
    "name": "ipython",
    "version": 3
   },
   "file_extension": ".py",
   "mimetype": "text/x-python",
   "name": "python",
   "nbconvert_exporter": "python",
   "pygments_lexer": "ipython3",
   "version": "3.8.8"
  }
 },
 "nbformat": 4,
 "nbformat_minor": 5
}
