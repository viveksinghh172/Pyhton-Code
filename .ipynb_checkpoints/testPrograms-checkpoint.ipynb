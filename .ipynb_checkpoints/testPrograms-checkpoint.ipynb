{
 "cells": [
  {
   "cell_type": "code",
   "execution_count": 3,
   "id": "04faa557",
   "metadata": {},
   "outputs": [
    {
     "name": "stdout",
     "output_type": "stream",
     "text": [
      "Enter First number: 2\n",
      "Enter second number: 3\n",
      "5\n"
     ]
    }
   ],
   "source": [
    "# Calculator\n",
    "\n",
    "def add(num1,num2):\n",
    "    return num1 + num2\n",
    "def sub(num1,num2):\n",
    "    return num1 - num2\n",
    "def mul(num1,num2):\n",
    "    return num1 * num2\n",
    "def div(num1,num2):\n",
    "    return num1/num2\n",
    "num1 = int(input(\"Enter First number: \"))\n",
    "num2 = int(input(\"Enter second number: \"))\n",
    "# res = add,sub,mul,div(num1,num2)\n",
    "print(add(num1,num2))"
   ]
  },
  {
   "cell_type": "code",
   "execution_count": null,
   "id": "235bc4af",
   "metadata": {},
   "outputs": [],
   "source": [
    "#Prime Number\n",
    "\n",
    "num = int(input(\"Enter a Number: \"))\n",
    "for i in range(i+1,num):\n",
    "    if num%i == 0:\n",
    "        print(\"Not a prime number\")\n",
    "    else:\n",
    "        print(\"Prime\")\n",
    "    break"
   ]
  },
  {
   "cell_type": "code",
   "execution_count": null,
   "id": "86ee6d50",
   "metadata": {},
   "outputs": [],
   "source": [
    "# Prime\n",
    "\n",
    "number = int(input(\"Enter a number: \"))\n",
    "flag = 0\n",
    "if number > 1:\n",
    "    for i in range(2,number):\n",
    "        if (number%i == 0):\n",
    "            flag = 1\n",
    "            #break\n",
    "if flag == 0:\n",
    "    print(\"Prime\")\n",
    "else:\n",
    "    print(\"Not\")"
   ]
  },
  {
   "cell_type": "code",
   "execution_count": null,
   "id": "118b42fd",
   "metadata": {},
   "outputs": [],
   "source": [
    "#Finding a particular Number\n",
    "\n",
    "a = []\n",
    "size = int(input(\"Enter the list size: \"))\n",
    "for i in range(size):\n",
    "    val = int(input(\"Enter values: \"))\n",
    "    a.append(val)\n",
    "number = int(input('Enter a number to find: '))\n",
    "flag = 0\n",
    "for i in range(size):\n",
    "    if a[i] == number:\n",
    "        flag = 1\n",
    "        pos = i+1\n",
    "        break\n",
    "if flag == 1:\n",
    "    print(\"Number is found at\",pos,\"position\")\n",
    "else:\n",
    "    print(\"Number is not available\")"
   ]
  },
  {
   "cell_type": "code",
   "execution_count": null,
   "id": "ab892679",
   "metadata": {},
   "outputs": [],
   "source": []
  }
 ],
 "metadata": {
  "kernelspec": {
   "display_name": "Python 3",
   "language": "python",
   "name": "python3"
  },
  "language_info": {
   "codemirror_mode": {
    "name": "ipython",
    "version": 3
   },
   "file_extension": ".py",
   "mimetype": "text/x-python",
   "name": "python",
   "nbconvert_exporter": "python",
   "pygments_lexer": "ipython3",
   "version": "3.8.8"
  }
 },
 "nbformat": 4,
 "nbformat_minor": 5
}
