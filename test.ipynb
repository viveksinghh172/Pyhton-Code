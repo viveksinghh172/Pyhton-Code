{
 "cells": [
  {
   "cell_type": "code",
   "execution_count": 10,
   "id": "71af193b",
   "metadata": {},
   "outputs": [],
   "source": [
    "a = ('M','i','s','s','i','s','s','i','p','p','i')"
   ]
  },
  {
   "cell_type": "code",
   "execution_count": 15,
   "id": "f3e68e53",
   "metadata": {},
   "outputs": [
    {
     "name": "stdout",
     "output_type": "stream",
     "text": [
      "<class 'set'>\n"
     ]
    }
   ],
   "source": [
    "print(type(a))"
   ]
  },
  {
   "cell_type": "code",
   "execution_count": null,
   "id": "27cbd406",
   "metadata": {},
   "outputs": [],
   "source": [
    "print(a)"
   ]
  },
  {
   "cell_type": "code",
   "execution_count": null,
   "id": "066abea0",
   "metadata": {},
   "outputs": [],
   "source": [
    "a = ('M','i','s','s','i','s','s','i','p','p','i')"
   ]
  },
  {
   "cell_type": "code",
   "execution_count": null,
   "id": "13ab7b6c",
   "metadata": {},
   "outputs": [],
   "source": [
    "print(type(a))"
   ]
  },
  {
   "cell_type": "code",
   "execution_count": null,
   "id": "f0f2bb39",
   "metadata": {},
   "outputs": [],
   "source": [
    "num = (input(\"Enter a Sequence: \"))\n",
    "x = num[::-1]\n",
    "if x==num:\n",
    "    print('palindrome')\n",
    "else:\n",
    "    print('Not palindrome')\n",
    "#print(pal('mjhdfjsd'))"
   ]
  },
  {
   "cell_type": "code",
   "execution_count": null,
   "id": "ab891051",
   "metadata": {},
   "outputs": [],
   "source": [
    "# Factorial\n",
    "\n",
    "def fact(a):\n",
    "    if a==1:\n",
    "        return a\n",
    "    else:\n",
    "        return a*fact(a-1)\n",
    "print(fact(5))"
   ]
  },
  {
   "cell_type": "code",
   "execution_count": null,
   "id": "fa96d761",
   "metadata": {},
   "outputs": [],
   "source": [
    "# palindrome using for loop\n",
    "\n",
    "number=input(\"Enter any number:\")\n",
    "i=0\n",
    "for i in range(len(number)):\n",
    "    if number[i]!=number[i-1]:\n",
    "        print('number is not palindrome')\n",
    "        break\n",
    "    else:\n",
    "        print('number is palindrome')\n",
    "        break"
   ]
  },
  {
   "cell_type": "code",
   "execution_count": null,
   "id": "18ff90f2",
   "metadata": {},
   "outputs": [],
   "source": [
    "print(\"printing current and previous number and their sum in a range(10)\")\n",
    "previous_num=0\n",
    "for i in range(1,11):\n",
    "     x_sum=previous_num+i\n",
    "     print(\"current number\",i,\"previous_number\",previous_num,\"sum:\",previous_num+i)\n",
    "     previous_num=i"
   ]
  },
  {
   "cell_type": "code",
   "execution_count": null,
   "id": "d9bd2e3c",
   "metadata": {},
   "outputs": [],
   "source": [
    "a = int(input(\"Enter first number: \"))\n",
    "b = int(input(\"Enter first number: \"))\n",
    "n = int(input(\"Enter the number of elements: \"))\n",
    "print(a,b, end=\" \")\n",
    "while n-2:\n",
    "    c = a+b\n",
    "    a = b\n",
    "    b = c\n",
    "    print(c, end=\" \")\n",
    "    n = n-1"
   ]
  },
  {
   "cell_type": "markdown",
   "id": "dd7b62fb",
   "metadata": {},
   "source": [
    "# Armstrong"
   ]
  },
  {
   "cell_type": "code",
   "execution_count": null,
   "id": "8d7e3848",
   "metadata": {},
   "outputs": [],
   "source": [
    "num = int(input(\"Enter a number: \"))\n",
    "s = 0\n",
    "temp = num\n",
    "while temp > 0:\n",
    "    c = temp%10\n",
    "    s+ = c**3\n",
    "    temp//= 10\n",
    "if num == s:\n",
    "    print(\"Armstrong\")\n",
    "else:\n",
    "    print(\"Number is not Armstrong\")"
   ]
  },
  {
   "cell_type": "code",
   "execution_count": null,
   "id": "1cdae5e3",
   "metadata": {},
   "outputs": [],
   "source": [
    "num = int(input(\"Enter a number: \"))\n",
    "s = 0\n",
    "temp = num\n",
    "while temp > 0:\n",
    "    c = temp%10\n",
    "    s+ = c**3\n",
    "    temp//= 10\n",
    "if num == s:\n",
    "    print(\"Armstrong\")\n",
    "else:\n",
    "    print(\"Number is not Armstrong\")"
   ]
  },
  {
   "cell_type": "code",
   "execution_count": 2,
   "id": "e6ccf4bc",
   "metadata": {},
   "outputs": [
    {
     "name": "stdout",
     "output_type": "stream",
     "text": [
      "<class 'list'>\n"
     ]
    }
   ],
   "source": [
    "n = []\n",
    "print(type(n))"
   ]
  },
  {
   "cell_type": "code",
   "execution_count": 2,
   "id": "516c33ed",
   "metadata": {},
   "outputs": [],
   "source": [
    "p = {1}"
   ]
  },
  {
   "cell_type": "code",
   "execution_count": 4,
   "id": "a9d387be",
   "metadata": {},
   "outputs": [
    {
     "name": "stdout",
     "output_type": "stream",
     "text": [
      "<class 'set'>\n"
     ]
    }
   ],
   "source": [
    "print(type(p))"
   ]
  },
  {
   "cell_type": "code",
   "execution_count": 5,
   "id": "080b56d7",
   "metadata": {},
   "outputs": [],
   "source": [
    "mylist = [(1,2),(3,4),(5,6),(7,8)]"
   ]
  },
  {
   "cell_type": "code",
   "execution_count": 8,
   "id": "34fd14f8",
   "metadata": {},
   "outputs": [
    {
     "name": "stdout",
     "output_type": "stream",
     "text": [
      "<class 'list'>\n"
     ]
    },
    {
     "data": {
      "text/plain": [
       "4"
      ]
     },
     "execution_count": 8,
     "metadata": {},
     "output_type": "execute_result"
    }
   ],
   "source": [
    "print(type(mylist))\n",
    "len(mylist)"
   ]
  },
  {
   "cell_type": "code",
   "execution_count": 17,
   "id": "0d5b378b",
   "metadata": {},
   "outputs": [
    {
     "name": "stdout",
     "output_type": "stream",
     "text": [
      "1 2\n",
      "3 4\n",
      "5 6\n",
      "7 8\n"
     ]
    }
   ],
   "source": [
    "for (a,b) in (mylist):\n",
    "    print(a,b)\n",
    "    #print(b)"
   ]
  },
  {
   "cell_type": "code",
   "execution_count": 23,
   "id": "0c25a6b5",
   "metadata": {},
   "outputs": [
    {
     "name": "stdout",
     "output_type": "stream",
     "text": [
      "[32.0, 50.0, 68.0, 86.0, 104.0]\n"
     ]
    }
   ],
   "source": [
    "celcius = [0,10,20,30,40]\n",
    "fahrenheit = [((9/5)*temp +32)for temp in celcius]\n",
    "print(fahrenheit)"
   ]
  },
  {
   "cell_type": "code",
   "execution_count": 22,
   "id": "039759ec",
   "metadata": {},
   "outputs": [
    {
     "ename": "NameError",
     "evalue": "name 'fahrenheit' is not defined",
     "output_type": "error",
     "traceback": [
      "\u001b[1;31m---------------------------------------------------------------------------\u001b[0m",
      "\u001b[1;31mNameError\u001b[0m                                 Traceback (most recent call last)",
      "\u001b[1;32m<ipython-input-22-38edfe4fe3b4>\u001b[0m in \u001b[0;36m<module>\u001b[1;34m\u001b[0m\n\u001b[1;32m----> 1\u001b[1;33m \u001b[0mfahrenheit\u001b[0m\u001b[1;33m\u001b[0m\u001b[1;33m\u001b[0m\u001b[0m\n\u001b[0m",
      "\u001b[1;31mNameError\u001b[0m: name 'fahrenheit' is not defined"
     ]
    }
   ],
   "source": [
    "fahrenheit"
   ]
  },
  {
   "cell_type": "code",
   "execution_count": 24,
   "id": "2af3f43c",
   "metadata": {},
   "outputs": [],
   "source": [
    "fahrenheit = []\n",
    "for temp in celcius:\n",
    "    fahrenheit.append(( (9/5)*temp + 32))"
   ]
  },
  {
   "cell_type": "code",
   "execution_count": 26,
   "id": "baaae381",
   "metadata": {},
   "outputs": [
    {
     "data": {
      "text/plain": [
       "[32.0, 50.0, 68.0, 86.0, 104.0]"
      ]
     },
     "execution_count": 26,
     "metadata": {},
     "output_type": "execute_result"
    }
   ],
   "source": [
    "fahrenheit"
   ]
  },
  {
   "cell_type": "code",
   "execution_count": 27,
   "id": "5f50e726",
   "metadata": {},
   "outputs": [],
   "source": [
    "results = [x if x%2==0 else 'ODD' for x in range(0,11)]"
   ]
  },
  {
   "cell_type": "code",
   "execution_count": 29,
   "id": "4dc46909",
   "metadata": {},
   "outputs": [
    {
     "data": {
      "text/plain": [
       "[0, 'ODD', 2, 'ODD', 4, 'ODD', 6, 'ODD', 8, 'ODD', 10]"
      ]
     },
     "execution_count": 29,
     "metadata": {},
     "output_type": "execute_result"
    }
   ],
   "source": [
    "results"
   ]
  },
  {
   "cell_type": "code",
   "execution_count": 5,
   "id": "d4fab442",
   "metadata": {},
   "outputs": [],
   "source": [
    "mylist = []\n",
    "for x in (2,4,6):\n",
    "    for y in (100,200,300):\n",
    "        mylist.append(x*y)"
   ]
  },
  {
   "cell_type": "code",
   "execution_count": 7,
   "id": "71cb9864",
   "metadata": {},
   "outputs": [
    {
     "data": {
      "text/plain": [
       "[200, 400, 600, 400, 800, 1200, 600, 1200, 1800]"
      ]
     },
     "execution_count": 7,
     "metadata": {},
     "output_type": "execute_result"
    }
   ],
   "source": [
    "mylist\n"
   ]
  },
  {
   "cell_type": "code",
   "execution_count": 8,
   "id": "55e9ec31",
   "metadata": {},
   "outputs": [],
   "source": [
    "st = 'Print only the words that starts with s in this sentence'"
   ]
  },
  {
   "cell_type": "code",
   "execution_count": 11,
   "id": "7f91bb99",
   "metadata": {},
   "outputs": [
    {
     "name": "stdout",
     "output_type": "stream",
     "text": [
      "Print\n",
      "only\n",
      "the\n",
      "words\n",
      "that\n",
      "starts\n",
      "with\n",
      "s\n",
      "in\n",
      "this\n",
      "sentence\n"
     ]
    }
   ],
   "source": [
    "for word in st.split():\n",
    "    word\n",
    "    print(word)"
   ]
  },
  {
   "cell_type": "code",
   "execution_count": 15,
   "id": "973e2493",
   "metadata": {},
   "outputs": [
    {
     "name": "stdout",
     "output_type": "stream",
     "text": [
      "starts\n",
      "s\n",
      "sentence\n"
     ]
    }
   ],
   "source": [
    "for word in st.split():\n",
    "    if word[0]== 's':\n",
    "        print(word)"
   ]
  },
  {
   "cell_type": "code",
   "execution_count": 17,
   "id": "e3fbf2bf",
   "metadata": {},
   "outputs": [
    {
     "name": "stdout",
     "output_type": "stream",
     "text": [
      "Sam\n",
      "starts\n",
      "s\n",
      "sentence\n"
     ]
    }
   ],
   "source": [
    "st = 'Sam Print only the words that starts with s in this sentence'\n",
    "for word in st.split():\n",
    "    if word[0].lower() == 's':\n",
    "        print(word)"
   ]
  },
  {
   "cell_type": "code",
   "execution_count": 19,
   "id": "23cfe0ce",
   "metadata": {},
   "outputs": [
    {
     "data": {
      "text/plain": [
       "[0, 2, 4, 6, 8, 10]"
      ]
     },
     "execution_count": 19,
     "metadata": {},
     "output_type": "execute_result"
    }
   ],
   "source": [
    "list(range(0,11,2))"
   ]
  },
  {
   "cell_type": "code",
   "execution_count": 22,
   "id": "753737ca",
   "metadata": {},
   "outputs": [
    {
     "name": "stdout",
     "output_type": "stream",
     "text": [
      "0\n",
      "2\n",
      "4\n",
      "6\n",
      "8\n",
      "10\n"
     ]
    }
   ],
   "source": [
    "for num in range(0,11,2):\n",
    "    print(num)"
   ]
  },
  {
   "cell_type": "markdown",
   "id": "f7f6b232",
   "metadata": {},
   "source": [
    "# list of all numbers bbetween 1-50, that are divisible by 3"
   ]
  },
  {
   "cell_type": "code",
   "execution_count": 33,
   "id": "1ab83016",
   "metadata": {},
   "outputs": [
    {
     "data": {
      "text/plain": [
       "[3, 6, 9, 12, 15, 18, 21, 24, 27, 30, 33, 36, 39, 42, 45, 48]"
      ]
     },
     "execution_count": 33,
     "metadata": {},
     "output_type": "execute_result"
    }
   ],
   "source": [
    "[x for x in range(1,51) if x%3 == 0]\n",
    "  "
   ]
  },
  {
   "cell_type": "markdown",
   "id": "f5fabdfc",
   "metadata": {},
   "source": [
    "# Gon throught the string below and if the length of a word is even print \"even!\""
   ]
  },
  {
   "cell_type": "code",
   "execution_count": 36,
   "id": "19e3b694",
   "metadata": {},
   "outputs": [],
   "source": [
    "st = 'Print every word in this sentence that has an even number of letters'\n"
   ]
  },
  {
   "cell_type": "code",
   "execution_count": 41,
   "id": "d1c729c0",
   "metadata": {},
   "outputs": [
    {
     "name": "stdout",
     "output_type": "stream",
     "text": [
      "word is even!\n",
      "in is even!\n",
      "this is even!\n",
      "sentence is even!\n",
      "that is even!\n",
      "an is even!\n",
      "even is even!\n",
      "number is even!\n",
      "of is even!\n"
     ]
    }
   ],
   "source": [
    "for word in st.split():\n",
    "    if len(word) % 2 == 0:\n",
    "        print(word+ ' is even!')"
   ]
  },
  {
   "cell_type": "code",
   "execution_count": 43,
   "id": "fd56ea3c",
   "metadata": {},
   "outputs": [
    {
     "name": "stdout",
     "output_type": "stream",
     "text": [
      "1\n",
      "2\n",
      "Fizz\n",
      "4\n",
      "Buzz\n",
      "Fizz\n",
      "7\n",
      "8\n",
      "Fizz\n",
      "Buzz\n",
      "11\n",
      "Fizz\n",
      "13\n",
      "14\n",
      "FizzBuzz\n",
      "16\n",
      "17\n",
      "Fizz\n",
      "19\n",
      "Buzz\n",
      "Fizz\n",
      "22\n",
      "23\n",
      "Fizz\n",
      "Buzz\n",
      "26\n",
      "Fizz\n",
      "28\n",
      "29\n",
      "FizzBuzz\n",
      "31\n",
      "32\n",
      "Fizz\n",
      "34\n",
      "Buzz\n",
      "Fizz\n",
      "37\n",
      "38\n",
      "Fizz\n",
      "Buzz\n",
      "41\n",
      "Fizz\n",
      "43\n",
      "44\n",
      "FizzBuzz\n",
      "46\n",
      "47\n",
      "Fizz\n",
      "49\n",
      "Buzz\n",
      "Fizz\n",
      "52\n",
      "53\n",
      "Fizz\n",
      "Buzz\n",
      "56\n",
      "Fizz\n",
      "58\n",
      "59\n",
      "FizzBuzz\n",
      "61\n",
      "62\n",
      "Fizz\n",
      "64\n",
      "Buzz\n",
      "Fizz\n",
      "67\n",
      "68\n",
      "Fizz\n",
      "Buzz\n",
      "71\n",
      "Fizz\n",
      "73\n",
      "74\n",
      "FizzBuzz\n",
      "76\n",
      "77\n",
      "Fizz\n",
      "79\n",
      "Buzz\n",
      "Fizz\n",
      "82\n",
      "83\n",
      "Fizz\n",
      "Buzz\n",
      "86\n",
      "Fizz\n",
      "88\n",
      "89\n",
      "FizzBuzz\n",
      "91\n",
      "92\n",
      "Fizz\n",
      "94\n",
      "Buzz\n",
      "Fizz\n",
      "97\n",
      "98\n",
      "Fizz\n",
      "Buzz\n"
     ]
    }
   ],
   "source": [
    "for num in range(1,101):\n",
    "    if num%3 == 0 and num%5 == 0:\n",
    "        print('FizzBuzz')\n",
    "    elif num%3 == 0:\n",
    "        print('Fizz')\n",
    "    elif num%5 == 0:\n",
    "        print('Buzz')\n",
    "    else:\n",
    "        print(num)"
   ]
  },
  {
   "cell_type": "code",
   "execution_count": 44,
   "id": "439c035a",
   "metadata": {},
   "outputs": [],
   "source": [
    "st = 'Create the list of first letters of every word in this string'"
   ]
  },
  {
   "cell_type": "code",
   "execution_count": 1,
   "id": "c4e2bdb1",
   "metadata": {},
   "outputs": [
    {
     "ename": "NameError",
     "evalue": "name 'st' is not defined",
     "output_type": "error",
     "traceback": [
      "\u001b[1;31m---------------------------------------------------------------------------\u001b[0m",
      "\u001b[1;31mNameError\u001b[0m                                 Traceback (most recent call last)",
      "\u001b[1;32m<ipython-input-1-426f4756ddcc>\u001b[0m in \u001b[0;36m<module>\u001b[1;34m\u001b[0m\n\u001b[1;32m----> 1\u001b[1;33m \u001b[1;33m[\u001b[0m\u001b[0mword\u001b[0m\u001b[1;33m[\u001b[0m\u001b[1;36m0\u001b[0m\u001b[1;33m]\u001b[0m \u001b[1;32mfor\u001b[0m \u001b[0mword\u001b[0m \u001b[1;32min\u001b[0m \u001b[0mst\u001b[0m\u001b[1;33m.\u001b[0m\u001b[0msplit\u001b[0m\u001b[1;33m(\u001b[0m\u001b[1;33m)\u001b[0m\u001b[1;33m]\u001b[0m\u001b[1;33m\u001b[0m\u001b[1;33m\u001b[0m\u001b[0m\n\u001b[0m",
      "\u001b[1;31mNameError\u001b[0m: name 'st' is not defined"
     ]
    }
   ],
   "source": [
    "[word[0] for word in st.split()]"
   ]
  },
  {
   "cell_type": "code",
   "execution_count": 1,
   "id": "759cb3c8",
   "metadata": {},
   "outputs": [
    {
     "name": "stdout",
     "output_type": "stream",
     "text": [
      "20\n",
      "28\n"
     ]
    }
   ],
   "source": [
    "n = 1234\n",
    "sq = 0\n",
    "cb = 0\n",
    "for i in range(n):\n",
    "    if n%2 == 0:\n",
    "        sq = sq + (n%10) * (n%10)\n",
    "        n = n//10\n",
    "    else:\n",
    "        cb = cb + (n%10) * (n%10)* (n%10)\n",
    "        n = n//10\n",
    "print(sq)\n",
    "print(cb)\n"
   ]
  },
  {
   "cell_type": "code",
   "execution_count": 2,
   "id": "70af989c",
   "metadata": {},
   "outputs": [
    {
     "name": "stdout",
     "output_type": "stream",
     "text": [
      "140722166114096\n",
      "140722166114096\n"
     ]
    }
   ],
   "source": [
    "a = 1\n",
    "b = 1\n",
    "print(id(a))\n",
    "print(id(b))"
   ]
  },
  {
   "cell_type": "code",
   "execution_count": 9,
   "id": "63d50de4",
   "metadata": {},
   "outputs": [
    {
     "name": "stdout",
     "output_type": "stream",
     "text": [
      "Total number of characters in a string:  18\n"
     ]
    }
   ],
   "source": [
    "string = \"The best of both worlds\";  \n",
    "count = 0;  \n",
    "   \n",
    "#Counts each character except space  \n",
    "for i in range(0, len(string)):  \n",
    "    if(string[i] != ' '):  \n",
    "        count = count + 1;  \n",
    "   \n",
    "#Displays the total number of characters present in the given string  \n",
    "print(\"Total number of characters in a string: \", count);  "
   ]
  },
  {
   "cell_type": "code",
   "execution_count": 42,
   "id": "79e5950f",
   "metadata": {},
   "outputs": [
    {
     "name": "stdout",
     "output_type": "stream",
     "text": [
      "[0, 0, 0, 0, 0]\n"
     ]
    }
   ],
   "source": [
    "# def zerolistmaker(n):\n",
    "#     listofzeros = [0] * n\n",
    "#     return listofzeros\n",
    "# zerolistmaker(5)\n",
    "n = 5\n",
    "l = [0]*n\n",
    "print(l)"
   ]
  },
  {
   "cell_type": "code",
   "execution_count": 25,
   "id": "ad5fd5b1",
   "metadata": {},
   "outputs": [
    {
     "name": "stdout",
     "output_type": "stream",
     "text": [
      "['a', 'aa', 'aaa', 'ababa']\n"
     ]
    }
   ],
   "source": [
    "# def Sorting(lst):\n",
    "#     lst.sort(key=len)\n",
    "#     return lst\n",
    "      \n",
    "# # Driver code\n",
    "# lst = ['aa', 'a', 'aaa', 'ababa']\n",
    "# print(Sorting(lst))\n",
    "lst = ['aa', 'a', 'aaa', 'ababa']\n",
    "lst.sort(key=len)\n",
    "print(lst)"
   ]
  },
  {
   "cell_type": "code",
   "execution_count": 30,
   "id": "eed9461a",
   "metadata": {},
   "outputs": [
    {
     "name": "stdout",
     "output_type": "stream",
     "text": [
      "GeeksforGeeks\n"
     ]
    }
   ],
   "source": [
    "\n",
    "# Python program to convert a list to string\n",
    "    \n",
    "# Function to convert  \n",
    "# def listToString(s): \n",
    "s = ['Geeks', 'for', 'Geeks']    \n",
    "    # initialize an empty string\n",
    "str1 = \"\" \n",
    "    \n",
    "    # traverse in the string  \n",
    "for i in s: \n",
    "    str1 += i  \n",
    "    \n",
    "    # return string  \n",
    "#     return str1 \n",
    "        \n",
    "        \n",
    "# Driver code    \n",
    "\n",
    "print(str1) "
   ]
  },
  {
   "cell_type": "code",
   "execution_count": 1,
   "id": "fa765971",
   "metadata": {},
   "outputs": [
    {
     "name": "stdout",
     "output_type": "stream",
     "text": [
      "* ** *** **** ***** ****** ******* ******** ********* ********** "
     ]
    }
   ],
   "source": [
    "for i in range(10):\n",
    "    for j in range(i+1):\n",
    "        print(\"*\",end=\"\")\n",
    "    print(end=\" \")"
   ]
  },
  {
   "cell_type": "code",
   "execution_count": 4,
   "id": "5339d1b4",
   "metadata": {},
   "outputs": [
    {
     "name": "stdout",
     "output_type": "stream",
     "text": [
      "10\n",
      "11\n",
      "12\n",
      "13\n"
     ]
    }
   ],
   "source": [
    "for num in range(10, 14):\n",
    "   for i in range(2, num):\n",
    "       if num%i == 1:\n",
    "          print(num)\n",
    "          break"
   ]
  },
  {
   "cell_type": "code",
   "execution_count": 6,
   "id": "57b41e50",
   "metadata": {},
   "outputs": [
    {
     "name": "stdout",
     "output_type": "stream",
     "text": [
      "3\n"
     ]
    }
   ],
   "source": [
    "x = 0\n",
    "a = 5\n",
    "b = 5\n",
    "if a > 0:\n",
    "    if b < 0: \n",
    "        x = x + 5 \n",
    "    elif a > 5:\n",
    "        x = x + 4\n",
    "    else:\n",
    "        x = x + 3\n",
    "else:\n",
    "    x = x + 2\n",
    "print(x)"
   ]
  },
  {
   "cell_type": "code",
   "execution_count": 8,
   "id": "5a6251f2",
   "metadata": {},
   "outputs": [
    {
     "name": "stdout",
     "output_type": "stream",
     "text": [
      "[4, 20, 24, 28]\n"
     ]
    }
   ],
   "source": [
    "aList = [4, 8, 12, 16]\n",
    "aList[1:4] = [20, 24, 28]\n",
    "print(aList)"
   ]
  },
  {
   "cell_type": "code",
   "execution_count": 11,
   "id": "60d747cd",
   "metadata": {},
   "outputs": [
    {
     "name": "stdout",
     "output_type": "stream",
     "text": [
      "10\n"
     ]
    }
   ],
   "source": [
    "l = [None] * 10\n",
    "print(len(l))"
   ]
  },
  {
   "cell_type": "code",
   "execution_count": 14,
   "id": "e8aa79b6",
   "metadata": {},
   "outputs": [
    {
     "name": "stdout",
     "output_type": "stream",
     "text": [
      "Y\n",
      "16\n"
     ]
    }
   ],
   "source": [
    "aList = [\"PYnative\", [4, 8, 12, 16]]\n",
    "print(aList[0][1])    \n",
    "print(aList[1][3])"
   ]
  },
  {
   "cell_type": "code",
   "execution_count": 16,
   "id": "697dd74d",
   "metadata": {},
   "outputs": [
    {
     "name": "stdout",
     "output_type": "stream",
     "text": [
      "40\n",
      "[20, 30, 40]\n"
     ]
    }
   ],
   "source": [
    "sampleList = [10, 20, 30, 40, 50]\n",
    "print(sampleList[-2])\n",
    "print(sampleList[-4:-1])"
   ]
  },
  {
   "cell_type": "code",
   "execution_count": 18,
   "id": "af368c35",
   "metadata": {},
   "outputs": [
    {
     "name": "stdout",
     "output_type": "stream",
     "text": [
      "[2, 4, 6, 8, 10, 12, 14]\n"
     ]
    }
   ],
   "source": [
    "aList = [1, 2, 3, 4, 5, 6, 7]\n",
    "pow2 =  [2 * x for x in aList]\n",
    "print(pow2)"
   ]
  },
  {
   "cell_type": "code",
   "execution_count": 27,
   "id": "812b65f5",
   "metadata": {},
   "outputs": [
    {
     "name": "stdout",
     "output_type": "stream",
     "text": [
      "el\n"
     ]
    }
   ],
   "source": [
    "l = \"hello\"\n",
    "print(l[1::2])"
   ]
  },
  {
   "cell_type": "code",
   "execution_count": 34,
   "id": "84fd4ec2",
   "metadata": {},
   "outputs": [
    {
     "name": "stdout",
     "output_type": "stream",
     "text": [
      "[20, 30]\n"
     ]
    }
   ],
   "source": [
    "sampleList = [10, 20, 30, 40] \n",
    "del sampleList[0::3]\n",
    "print(sampleList)"
   ]
  },
  {
   "cell_type": "code",
   "execution_count": 41,
   "id": "dcde6887",
   "metadata": {},
   "outputs": [
    {
     "name": "stdout",
     "output_type": "stream",
     "text": [
      "<class 'function'>\n",
      "<generator object FirstTenElements at 0x0000024043DB9B30>\n",
      "1\n",
      "2\n"
     ]
    }
   ],
   "source": [
    "def FirstTenElements():\n",
    "    yield 1\n",
    "    yield 2\n",
    "    yield 3\n",
    "    yield 4\n",
    "    yield 5\n",
    "    yield 6\n",
    "print(type(FirstTenElements))\n",
    "f = FirstTenElements()\n",
    "print(f)\n",
    "print(f.__next__())\n",
    "print(next(f))"
   ]
  }
 ],
 "metadata": {
  "kernelspec": {
   "display_name": "Python 3",
   "language": "python",
   "name": "python3"
  },
  "language_info": {
   "codemirror_mode": {
    "name": "ipython",
    "version": 3
   },
   "file_extension": ".py",
   "mimetype": "text/x-python",
   "name": "python",
   "nbconvert_exporter": "python",
   "pygments_lexer": "ipython3",
   "version": "3.8.8"
  }
 },
 "nbformat": 4,
 "nbformat_minor": 5
}
