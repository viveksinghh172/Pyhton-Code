{
 "cells": [
  {
   "cell_type": "code",
   "execution_count": 1,
   "id": "3e173fa2",
   "metadata": {},
   "outputs": [
    {
     "data": {
      "text/plain": [
       "5.551115123125783e-17"
      ]
     },
     "execution_count": 1,
     "metadata": {},
     "output_type": "execute_result"
    }
   ],
   "source": [
    "0.1+0.2-0.3"
   ]
  },
  {
   "cell_type": "code",
   "execution_count": 2,
   "id": "39dba2d8",
   "metadata": {},
   "outputs": [
    {
     "name": "stdout",
     "output_type": "stream",
     "text": [
      "\n",
      "1\n",
      "22\n",
      "333\n",
      "4444\n",
      "55555\n"
     ]
    }
   ],
   "source": [
    "rows = 6;\n",
    "for num in range(rows):\n",
    "\tfor i in range(num):\n",
    "\t\tprint(num, end=\"\")\n",
    "\tprint(\"\")"
   ]
  },
  {
   "cell_type": "code",
   "execution_count": 3,
   "id": "fab2e77e",
   "metadata": {},
   "outputs": [
    {
     "data": {
      "text/plain": [
       "0.30000000000000004"
      ]
     },
     "execution_count": 3,
     "metadata": {},
     "output_type": "execute_result"
    }
   ],
   "source": [
    "0.1+0.2\n"
   ]
  },
  {
   "cell_type": "code",
   "execution_count": 4,
   "id": "ecf7b169",
   "metadata": {},
   "outputs": [
    {
     "data": {
      "text/plain": [
       "0.0"
      ]
     },
     "execution_count": 4,
     "metadata": {},
     "output_type": "execute_result"
    }
   ],
   "source": [
    "0.3-0.3000000\n"
   ]
  },
  {
   "cell_type": "code",
   "execution_count": 5,
   "id": "d64cdd8a",
   "metadata": {},
   "outputs": [],
   "source": [
    "a = 10"
   ]
  },
  {
   "cell_type": "code",
   "execution_count": 6,
   "id": "07cfc074",
   "metadata": {},
   "outputs": [
    {
     "data": {
      "text/plain": [
       "10"
      ]
     },
     "execution_count": 6,
     "metadata": {},
     "output_type": "execute_result"
    }
   ],
   "source": [
    "a"
   ]
  },
  {
   "cell_type": "code",
   "execution_count": 7,
   "id": "4095820e",
   "metadata": {},
   "outputs": [],
   "source": [
    "a = a+a"
   ]
  },
  {
   "cell_type": "code",
   "execution_count": 8,
   "id": "f954c748",
   "metadata": {},
   "outputs": [
    {
     "data": {
      "text/plain": [
       "20"
      ]
     },
     "execution_count": 8,
     "metadata": {},
     "output_type": "execute_result"
    }
   ],
   "source": [
    "a"
   ]
  },
  {
   "cell_type": "code",
   "execution_count": null,
   "id": "f4cfe6fc",
   "metadata": {},
   "outputs": [],
   "source": []
  },
  {
   "cell_type": "code",
   "execution_count": null,
   "id": "1b59876f",
   "metadata": {},
   "outputs": [],
   "source": []
  },
  {
   "cell_type": "code",
   "execution_count": null,
   "id": "4448300b",
   "metadata": {},
   "outputs": [],
   "source": []
  },
  {
   "cell_type": "code",
   "execution_count": 9,
   "id": "9cc2f327",
   "metadata": {},
   "outputs": [],
   "source": [
    "a = a+a"
   ]
  },
  {
   "cell_type": "code",
   "execution_count": 10,
   "id": "9e95b2fb",
   "metadata": {
    "scrolled": true
   },
   "outputs": [
    {
     "data": {
      "text/plain": [
       "40"
      ]
     },
     "execution_count": 10,
     "metadata": {},
     "output_type": "execute_result"
    }
   ],
   "source": [
    "a"
   ]
  },
  {
   "cell_type": "code",
   "execution_count": 11,
   "id": "c908a879",
   "metadata": {},
   "outputs": [
    {
     "data": {
      "text/plain": [
       "40"
      ]
     },
     "execution_count": 11,
     "metadata": {},
     "output_type": "execute_result"
    }
   ],
   "source": [
    "a"
   ]
  },
  {
   "cell_type": "code",
   "execution_count": 12,
   "id": "c17bcee4",
   "metadata": {},
   "outputs": [
    {
     "data": {
      "text/plain": [
       "'hello'"
      ]
     },
     "execution_count": 12,
     "metadata": {},
     "output_type": "execute_result"
    }
   ],
   "source": [
    "\"hello\""
   ]
  },
  {
   "cell_type": "code",
   "execution_count": 13,
   "id": "60cd82e8",
   "metadata": {},
   "outputs": [
    {
     "data": {
      "text/plain": [
       "'hello'"
      ]
     },
     "execution_count": 13,
     "metadata": {},
     "output_type": "execute_result"
    }
   ],
   "source": [
    "'hello'"
   ]
  },
  {
   "cell_type": "code",
   "execution_count": 15,
   "id": "9139594d",
   "metadata": {},
   "outputs": [],
   "source": [
    "mystring = \"abcdefgh\""
   ]
  },
  {
   "cell_type": "raw",
   "id": "ab52a8c3",
   "metadata": {},
   "source": [
    "mystring"
   ]
  },
  {
   "cell_type": "code",
   "execution_count": 21,
   "id": "54d012a8",
   "metadata": {},
   "outputs": [
    {
     "data": {
      "text/plain": [
       "'aceg'"
      ]
     },
     "execution_count": 21,
     "metadata": {},
     "output_type": "execute_result"
    }
   ],
   "source": [
    "mystring[::2]"
   ]
  },
  {
   "cell_type": "code",
   "execution_count": 22,
   "id": "8756394c",
   "metadata": {},
   "outputs": [
    {
     "data": {
      "text/plain": [
       "'ce'"
      ]
     },
     "execution_count": 22,
     "metadata": {},
     "output_type": "execute_result"
    }
   ],
   "source": [
    "mystring[2:5:2]"
   ]
  },
  {
   "cell_type": "code",
   "execution_count": 34,
   "id": "70dccf0e",
   "metadata": {},
   "outputs": [
    {
     "name": "stdout",
     "output_type": "stream",
     "text": [
      "enter a number5\n",
      "*\n",
      "**\n",
      "***\n",
      "****\n",
      "*****\n"
     ]
    }
   ],
   "source": [
    "n = int(input(\"enter a number\"))\n",
    "for i in range(n):\n",
    "    for j in range(i+1):\n",
    "        print(end=\"*\")\n",
    "    print(\"\")"
   ]
  },
  {
   "cell_type": "code",
   "execution_count": 35,
   "id": "b51f9619",
   "metadata": {},
   "outputs": [
    {
     "name": "stdout",
     "output_type": "stream",
     "text": [
      "Enter a Number 5\n",
      "1 \n",
      "1 2 \n",
      "1 2 3 \n",
      "1 2 3 4 \n",
      "1 2 3 4 5 \n"
     ]
    }
   ],
   "source": [
    "n = int(input(\"Enter a Number \"))\n",
    "for row in range(n):\n",
    "    for column in range(row+1):\n",
    "        print(column+1, end=\" \")\n",
    "    print(\"\")"
   ]
  },
  {
   "cell_type": "code",
   "execution_count": 36,
   "id": "e5d71425",
   "metadata": {},
   "outputs": [
    {
     "name": "stdout",
     "output_type": "stream",
     "text": [
      "Enter Number of Rows Needed 6\n",
      "6 \n",
      "5 5 \n",
      "4 4 4 \n",
      "3 3 3 3 \n",
      "2 2 2 2 2 \n",
      "1 1 1 1 1 1 \n"
     ]
    }
   ],
   "source": [
    "n = int(input(\"Enter Number of Rows Needed \"))\n",
    "for i in range(n):\n",
    "    for j in range(i+1):\n",
    "        print(n-i, end=\" \")\n",
    "    print(\"\")"
   ]
  },
  {
   "cell_type": "code",
   "execution_count": 1,
   "id": "2c136cae",
   "metadata": {},
   "outputs": [
    {
     "ename": "NameError",
     "evalue": "name 'mystring' is not defined",
     "output_type": "error",
     "traceback": [
      "\u001b[1;31m---------------------------------------------------------------------------\u001b[0m",
      "\u001b[1;31mNameError\u001b[0m                                 Traceback (most recent call last)",
      "\u001b[1;32m<ipython-input-1-9eca6b482930>\u001b[0m in \u001b[0;36m<module>\u001b[1;34m\u001b[0m\n\u001b[1;32m----> 1\u001b[1;33m \u001b[0mmystring\u001b[0m\u001b[1;33m\u001b[0m\u001b[1;33m\u001b[0m\u001b[0m\n\u001b[0m",
      "\u001b[1;31mNameError\u001b[0m: name 'mystring' is not defined"
     ]
    }
   ],
   "source": [
    "mystring\n"
   ]
  },
  {
   "cell_type": "code",
   "execution_count": 2,
   "id": "046fd5bd",
   "metadata": {},
   "outputs": [],
   "source": [
    "mystring = \"abcdefghijk\""
   ]
  },
  {
   "cell_type": "code",
   "execution_count": 3,
   "id": "04a7f184",
   "metadata": {},
   "outputs": [
    {
     "data": {
      "text/plain": [
       "'abcdefghijk'"
      ]
     },
     "execution_count": 3,
     "metadata": {},
     "output_type": "execute_result"
    }
   ],
   "source": [
    "mystring"
   ]
  },
  {
   "cell_type": "code",
   "execution_count": 6,
   "id": "d5970b5e",
   "metadata": {},
   "outputs": [
    {
     "data": {
      "text/plain": [
       "'kjihgfedcba'"
      ]
     },
     "execution_count": 6,
     "metadata": {},
     "output_type": "execute_result"
    }
   ],
   "source": [
    "mystring[::-1]"
   ]
  },
  {
   "cell_type": "code",
   "execution_count": 7,
   "id": "36f39c04",
   "metadata": {},
   "outputs": [],
   "source": [
    "name = \"Sam\""
   ]
  },
  {
   "cell_type": "code",
   "execution_count": 9,
   "id": "09ccdb30",
   "metadata": {},
   "outputs": [],
   "source": [
    "# name[0] = \"P\""
   ]
  },
  {
   "cell_type": "code",
   "execution_count": 10,
   "id": "3c59a4e6",
   "metadata": {},
   "outputs": [],
   "source": [
    "last_letters = name[1:]"
   ]
  },
  {
   "cell_type": "code",
   "execution_count": 12,
   "id": "2fb6f659",
   "metadata": {},
   "outputs": [
    {
     "data": {
      "text/plain": [
       "'am'"
      ]
     },
     "execution_count": 12,
     "metadata": {},
     "output_type": "execute_result"
    }
   ],
   "source": [
    "last_letters"
   ]
  },
  {
   "cell_type": "code",
   "execution_count": 14,
   "id": "5a3ec032",
   "metadata": {},
   "outputs": [
    {
     "data": {
      "text/plain": [
       "'Pam'"
      ]
     },
     "execution_count": 14,
     "metadata": {},
     "output_type": "execute_result"
    }
   ],
   "source": [
    "'P' + last_letters"
   ]
  },
  {
   "cell_type": "code",
   "execution_count": 19,
   "id": "5167bc88",
   "metadata": {},
   "outputs": [],
   "source": [
    "x = \"Hello World\""
   ]
  },
  {
   "cell_type": "code",
   "execution_count": 21,
   "id": "a2802dc2",
   "metadata": {},
   "outputs": [
    {
     "data": {
      "text/plain": [
       "\"Hello World it's beautiful outside\""
      ]
     },
     "execution_count": 21,
     "metadata": {},
     "output_type": "execute_result"
    }
   ],
   "source": [
    "x + \" it's beautiful outside\""
   ]
  },
  {
   "cell_type": "code",
   "execution_count": 22,
   "id": "549f76ad",
   "metadata": {},
   "outputs": [],
   "source": [
    "name = name+last_letters"
   ]
  },
  {
   "cell_type": "code",
   "execution_count": 23,
   "id": "1039de5b",
   "metadata": {},
   "outputs": [
    {
     "data": {
      "text/plain": [
       "'Samam'"
      ]
     },
     "execution_count": 23,
     "metadata": {},
     "output_type": "execute_result"
    }
   ],
   "source": [
    "name"
   ]
  },
  {
   "cell_type": "code",
   "execution_count": 28,
   "id": "733e62f7",
   "metadata": {},
   "outputs": [],
   "source": [
    "#last_letters = 'P'+last_letters"
   ]
  },
  {
   "cell_type": "code",
   "execution_count": 29,
   "id": "2d4e365e",
   "metadata": {},
   "outputs": [
    {
     "data": {
      "text/plain": [
       "'PamP'"
      ]
     },
     "execution_count": 29,
     "metadata": {},
     "output_type": "execute_result"
    }
   ],
   "source": [
    "last_letters"
   ]
  },
  {
   "cell_type": "code",
   "execution_count": 31,
   "id": "5e3f11e9",
   "metadata": {},
   "outputs": [],
   "source": [
    "x = x + \"its beautiful outside\""
   ]
  },
  {
   "cell_type": "code",
   "execution_count": 30,
   "id": "84c3f6f4",
   "metadata": {},
   "outputs": [
    {
     "data": {
      "text/plain": [
       "'Hello World'"
      ]
     },
     "execution_count": 30,
     "metadata": {},
     "output_type": "execute_result"
    }
   ],
   "source": [
    "x"
   ]
  },
  {
   "cell_type": "code",
   "execution_count": 36,
   "id": "9977beea",
   "metadata": {},
   "outputs": [
    {
     "name": "stdout",
     "output_type": "stream",
     "text": [
      "this is a string INSERTED\n"
     ]
    }
   ],
   "source": [
    "print('this is a string {}'.format('INSERTED'))"
   ]
  },
  {
   "cell_type": "code",
   "execution_count": 38,
   "id": "a60b8073",
   "metadata": {},
   "outputs": [
    {
     "name": "stdout",
     "output_type": "stream",
     "text": [
      "The quick brown fox\n"
     ]
    }
   ],
   "source": [
    "print('The {2} {1} {0}'.format('fox', 'brown', 'quick'))"
   ]
  },
  {
   "cell_type": "code",
   "execution_count": 39,
   "id": "15582113",
   "metadata": {},
   "outputs": [
    {
     "name": "stdout",
     "output_type": "stream",
     "text": [
      "The quick brown fox\n"
     ]
    }
   ],
   "source": [
    "print('The {q} {b} {f}'.format(f='fox', b='brown', q='quick'))"
   ]
  },
  {
   "cell_type": "code",
   "execution_count": 40,
   "id": "f08a7c6e",
   "metadata": {},
   "outputs": [],
   "source": [
    "result = 100/777"
   ]
  },
  {
   "cell_type": "code",
   "execution_count": 41,
   "id": "f75d2415",
   "metadata": {},
   "outputs": [
    {
     "name": "stdout",
     "output_type": "stream",
     "text": [
      "0.1287001287001287\n"
     ]
    }
   ],
   "source": [
    "print(result)"
   ]
  },
  {
   "cell_type": "code",
   "execution_count": 48,
   "id": "3e226716",
   "metadata": {},
   "outputs": [
    {
     "name": "stdout",
     "output_type": "stream",
     "text": [
      "The result is 0.1287001287001287\n"
     ]
    }
   ],
   "source": [
    "print('The result is {}'.format(result))"
   ]
  },
  {
   "cell_type": "code",
   "execution_count": 50,
   "id": "22e3a68a",
   "metadata": {},
   "outputs": [
    {
     "name": "stdout",
     "output_type": "stream",
     "text": [
      "The result is 0.129\n"
     ]
    }
   ],
   "source": [
    "print('The result is {r:1.3f}'.format(r=result))"
   ]
  },
  {
   "cell_type": "code",
   "execution_count": 53,
   "id": "dbcb855d",
   "metadata": {},
   "outputs": [],
   "source": [
    "name = 'Jose'"
   ]
  },
  {
   "cell_type": "code",
   "execution_count": 54,
   "id": "46fb7165",
   "metadata": {},
   "outputs": [
    {
     "name": "stdout",
     "output_type": "stream",
     "text": [
      "Hello, his name is Jose\n"
     ]
    }
   ],
   "source": [
    "print(f'Hello, his name is {name}')"
   ]
  },
  {
   "cell_type": "code",
   "execution_count": 55,
   "id": "9db293a6",
   "metadata": {},
   "outputs": [],
   "source": [
    "name = \"same\"\n",
    "age = 38"
   ]
  },
  {
   "cell_type": "code",
   "execution_count": 57,
   "id": "e27289cb",
   "metadata": {},
   "outputs": [
    {
     "name": "stdout",
     "output_type": "stream",
     "text": [
      "same is 38 years old\n"
     ]
    }
   ],
   "source": [
    "print(f'{name} is {age} years old')"
   ]
  },
  {
   "cell_type": "code",
   "execution_count": 58,
   "id": "033ed286",
   "metadata": {},
   "outputs": [],
   "source": [
    "x, y = 'ram', 'shyam'"
   ]
  },
  {
   "cell_type": "code",
   "execution_count": 62,
   "id": "2f748276",
   "metadata": {},
   "outputs": [
    {
     "name": "stdout",
     "output_type": "stream",
     "text": [
      "he is ram and he is shyam :\n"
     ]
    }
   ],
   "source": [
    "print(\"he is %s and he is %s :\"%(x,y))"
   ]
  },
  {
   "cell_type": "code",
   "execution_count": 63,
   "id": "7ab448dc",
   "metadata": {},
   "outputs": [],
   "source": [
    "x = \"Python\"\n"
   ]
  },
  {
   "cell_type": "code",
   "execution_count": 65,
   "id": "364f2165",
   "metadata": {},
   "outputs": [
    {
     "name": "stdout",
     "output_type": "stream",
     "text": [
      " Python rules\n"
     ]
    }
   ],
   "source": [
    "print(' {} rules'.format(x))"
   ]
  },
  {
   "cell_type": "code",
   "execution_count": 67,
   "id": "891e0c88",
   "metadata": {},
   "outputs": [
    {
     "name": "stdout",
     "output_type": "stream",
     "text": [
      "8443\n"
     ]
    }
   ],
   "source": [
    "#program to check current age (in days)!\n",
    "\n",
    "import datetime as dt\n",
    "birthday = dt.datetime(1998,8,12)\n",
    "time_alive = dt.datetime.today() - birthday\n",
    "print(time_alive.days)"
   ]
  },
  {
   "cell_type": "code",
   "execution_count": 75,
   "id": "3c738746",
   "metadata": {},
   "outputs": [
    {
     "name": "stdout",
     "output_type": "stream",
     "text": [
      "Please Enter the Number of Rows: 5\n",
      "A \n",
      "B C \n",
      "D E F \n",
      "G H I J \n",
      "K L M N O \n"
     ]
    }
   ],
   "source": [
    "n = int(input(\"Please Enter the Number of Rows: \"))\n",
    "k = ord(\"A\")\n",
    "for i in range (n):\n",
    "    for j in range(i+1):\n",
    "        print(chr(k), end=\" \")\n",
    "        k=k+1\n",
    "    print(\"\")\n"
   ]
  },
  {
   "cell_type": "code",
   "execution_count": 77,
   "id": "5b9ec8db",
   "metadata": {},
   "outputs": [
    {
     "name": "stdout",
     "output_type": "stream",
     "text": [
      "Enter the number of rows: 5\n",
      "A \n",
      "B C \n",
      "C D E \n",
      "D E F G \n",
      "E F G H I \n"
     ]
    }
   ],
   "source": [
    "n = int(input(\"Enter the number of rows: \"))\n",
    "for i in range(n):\n",
    "    k = ord(\"A\")+i\n",
    "    for j in range (i+1):\n",
    "        print(chr(k), end=\" \")\n",
    "        k = k+1\n",
    "    print(\"\")"
   ]
  },
  {
   "cell_type": "code",
   "execution_count": 81,
   "id": "39673e04",
   "metadata": {},
   "outputs": [
    {
     "name": "stdout",
     "output_type": "stream",
     "text": [
      "Enter the number of rows: 5\n",
      "* * * * * \n",
      "* * * * * \n",
      "* * * * * \n",
      "* * * * * \n",
      "* * * * * \n"
     ]
    }
   ],
   "source": [
    "n = int(input(\"Enter the number of rows: \"))\n",
    "for i in range(n):\n",
    "    for j in range (n):\n",
    "        print('*', end=\" \")\n",
    "    print(\"\")"
   ]
  },
  {
   "cell_type": "code",
   "execution_count": 88,
   "id": "6ae7a002",
   "metadata": {},
   "outputs": [
    {
     "name": "stdout",
     "output_type": "stream",
     "text": [
      "     *\n",
      "    **\n",
      "   ***\n",
      "  ****\n",
      " *****\n"
     ]
    }
   ],
   "source": [
    "n = 5\n",
    "for i in range(n):\n",
    "    for j in range(i, n):\n",
    "        print(' ',end=\"\")\n",
    "    for j in range(i+1):\n",
    "        print('*',end=\"\")\n",
    "    print(\"\")\n",
    "        "
   ]
  },
  {
   "cell_type": "code",
   "execution_count": 1,
   "id": "422be454",
   "metadata": {},
   "outputs": [
    {
     "name": "stdout",
     "output_type": "stream",
     "text": [
      "Enter the number of rows: 5\n",
      "********* \n",
      " ****** \n",
      "  *** \n",
      "    \n",
      "     \n"
     ]
    }
   ],
   "source": [
    "n = int(input(\"Enter the number of rows: \"))\n",
    "i = 1\n",
    "while n > 0:\n",
    "    b = 1\n",
    "    while b < i:\n",
    "        print(\" \",end=\"\")\n",
    "        b = b+1\n",
    "    j = 1\n",
    "    while j<=(n * 2)-i:\n",
    "        print(\"*\",end=\"\")\n",
    "        j = j+1\n",
    "    print(\" \")\n",
    "    n = n-1\n",
    "    i = i+1"
   ]
  },
  {
   "cell_type": "markdown",
   "id": "8d22263e",
   "metadata": {},
   "source": [
    "# 1. Program to find reverse value of a given Number"
   ]
  },
  {
   "cell_type": "code",
   "execution_count": 3,
   "id": "7a92af19",
   "metadata": {},
   "outputs": [
    {
     "name": "stdout",
     "output_type": "stream",
     "text": [
      "Enter a number: 567\n",
      "Reverse of the number=  765\n"
     ]
    }
   ],
   "source": [
    "i = int(input(\"Enter a number: \"))\n",
    "rev = 0\n",
    "while(i > 0):\n",
    "    rev = (rev*10) + i%10\n",
    "    i = i//10\n",
    "print(\"Reverse of the number= \",rev)"
   ]
  },
  {
   "cell_type": "markdown",
   "id": "dab2cea4",
   "metadata": {},
   "source": [
    "# 2. Program to check whether the number is Prime or not!"
   ]
  },
  {
   "cell_type": "code",
   "execution_count": 12,
   "id": "5d21c24c",
   "metadata": {},
   "outputs": [
    {
     "name": "stdout",
     "output_type": "stream",
     "text": [
      "Enter your number: 41\n",
      "Prime Number\n"
     ]
    }
   ],
   "source": [
    "num = int(input(\"Enter your number: \"))\n",
    "count = 0\n",
    "i = 1\n",
    "while i <= num:\n",
    "    if num%i == 0:\n",
    "        count = count+1\n",
    "    i = i+1\n",
    "if(count == 2):\n",
    "    print(\"Prime Number\")\n",
    "else:\n",
    "    print(\"Not a Prime Number\")"
   ]
  },
  {
   "cell_type": "markdown",
   "id": "b266be19",
   "metadata": {},
   "source": [
    "# 3. Program to find all prime numbers in the given range!"
   ]
  },
  {
   "cell_type": "code",
   "execution_count": 14,
   "id": "3ea97bb6",
   "metadata": {},
   "outputs": [
    {
     "name": "stdout",
     "output_type": "stream",
     "text": [
      "Enter the starting range: 10\n",
      "Enter the end range: 50\n",
      "Prime numbers in the range 10 to 50\n",
      "11 13 17 19 23 29 31 37 41 43 47 "
     ]
    }
   ],
   "source": [
    "start = int(input(\"Enter the starting range: \"))\n",
    "end = int(input(\"Enter the end range: \"))\n",
    "print(\"Prime numbers in the range\",start, \"to\", end)\n",
    "for i in range(start, end+1):\n",
    "    flag = 0\n",
    "    for j in range(2, i):\n",
    "        if(i%j == 0):\n",
    "            flag = 1\n",
    "            break\n",
    "    if(flag == 0):\n",
    "        print(i,end=' ')"
   ]
  },
  {
   "cell_type": "markdown",
   "id": "187bbadb",
   "metadata": {},
   "source": [
    "# 1. Program to find reverse string!"
   ]
  },
  {
   "cell_type": "code",
   "execution_count": 64,
   "id": "0cd1b628",
   "metadata": {},
   "outputs": [
    {
     "name": "stdout",
     "output_type": "stream",
     "text": [
      "Enter a String: Vivek\n",
      "Reverse of  Vivek  is  keviV\n"
     ]
    }
   ],
   "source": [
    "original = input(\"Enter a String: \")\n",
    "reverse = ''\n",
    "for i in range(len(original)-1,-1,-1):\n",
    "    reverse = reverse+original[i]\n",
    "print(\"Reverse of \",original,\" is \",reverse )"
   ]
  },
  {
   "cell_type": "markdown",
   "id": "e1743711",
   "metadata": {},
   "source": [
    "# 2. Program to check, String is palindrome or not!"
   ]
  },
  {
   "cell_type": "code",
   "execution_count": 68,
   "id": "a6ed2654",
   "metadata": {},
   "outputs": [
    {
     "name": "stdout",
     "output_type": "stream",
     "text": [
      "Enter a String: madam\n",
      "String is Palindrome\n"
     ]
    }
   ],
   "source": [
    "original = input(\"Enter a String: \")\n",
    "reverse = ''\n",
    "for i in range(len(original)-1,-1,-1):\n",
    "    reverse = reverse+original[i]\n",
    "if original == reverse:\n",
    "    print('String is Palindrome')\n",
    "else:\n",
    "    print('Not Palindrome')"
   ]
  },
  {
   "cell_type": "markdown",
   "id": "1080528b",
   "metadata": {},
   "source": [
    "# 3. Remove charecters from a string!"
   ]
  },
  {
   "cell_type": "code",
   "execution_count": 42,
   "id": "8e50fca6",
   "metadata": {},
   "outputs": [
    {
     "name": "stdout",
     "output_type": "stream",
     "text": [
      "original string=  Hello, ~Sir\n",
      "New String= Hello Sir\n"
     ]
    }
   ],
   "source": [
    "original_str = \"Hello, ~Sir\"\n",
    "new_str = ''\n",
    "for char in original_str:\n",
    "    if char != ',' and char !='~':\n",
    "        new_str += char\n",
    "print(\"original string= \",original_str)\n",
    "print(\"New String=\",new_str)"
   ]
  }
 ],
 "metadata": {
  "kernelspec": {
   "display_name": "Python 3",
   "language": "python",
   "name": "python3"
  },
  "language_info": {
   "codemirror_mode": {
    "name": "ipython",
    "version": 3
   },
   "file_extension": ".py",
   "mimetype": "text/x-python",
   "name": "python",
   "nbconvert_exporter": "python",
   "pygments_lexer": "ipython3",
   "version": "3.8.8"
  }
 },
 "nbformat": 4,
 "nbformat_minor": 5
}
