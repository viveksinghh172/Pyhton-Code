{
 "cells": [
  {
   "cell_type": "code",
   "execution_count": 1,
   "id": "a74fda71",
   "metadata": {},
   "outputs": [
    {
     "name": "stdout",
     "output_type": "stream",
     "text": [
      "hello\n"
     ]
    }
   ],
   "source": [
    "print('hello')"
   ]
  },
  {
   "cell_type": "markdown",
   "id": "677feb76",
   "metadata": {},
   "source": [
    "here ypu can write notes"
   ]
  },
  {
   "cell_type": "code",
   "execution_count": 2,
   "id": "a8ee07b8",
   "metadata": {},
   "outputs": [
    {
     "name": "stdout",
     "output_type": "stream",
     "text": [
      "new\n"
     ]
    }
   ],
   "source": [
    "print('new')"
   ]
  },
  {
   "cell_type": "markdown",
   "id": "4c416813",
   "metadata": {},
   "source": [
    "# Enter a number from user and check, it is prime or not!"
   ]
  },
  {
   "cell_type": "code",
   "execution_count": 24,
   "id": "24bb7057",
   "metadata": {},
   "outputs": [
    {
     "name": "stdout",
     "output_type": "stream",
     "text": [
      "Enter a number: 100031\n",
      "100031 is not a prime number\n"
     ]
    }
   ],
   "source": [
    "num = int(input(\"Enter a number: \"))\n",
    "\n",
    "# define a flag variable\n",
    "flag = 0\n",
    "\n",
    "# prime numbers are greater than 1\n",
    "#if num > 1:\n",
    "    # check for factors\n",
    "for i in range(2, num):\n",
    "    if (num % i) == 0:\n",
    "        flag = 1\n",
    "        break\n",
    "\n",
    "# check if flag is True\n",
    "if flag == 1:\n",
    "    print(num, \"is not a prime number\")\n",
    "else:\n",
    "    print(num, \"is a prime number\")"
   ]
  },
  {
   "cell_type": "code",
   "execution_count": 1,
   "id": "03b6e3d7",
   "metadata": {},
   "outputs": [
    {
     "name": "stdout",
     "output_type": "stream",
     "text": [
      "Enter a Sequence: madam\n",
      "palindrome\n"
     ]
    }
   ],
   "source": [
    "#Palindrome\n",
    "\n",
    "num = (input(\"Enter a Sequence: \"))\n",
    "x = num[::-1]\n",
    "if x==num:\n",
    "    print('palindrome')\n",
    "else:\n",
    "    print('Not palindrome')"
   ]
  },
  {
   "cell_type": "code",
   "execution_count": 3,
   "id": "8845e1a1",
   "metadata": {},
   "outputs": [
    {
     "name": "stdout",
     "output_type": "stream",
     "text": [
      "120\n"
     ]
    }
   ],
   "source": [
    "# Factorial\n",
    "\n",
    "def fact(a):\n",
    "    if a==1:\n",
    "        return a\n",
    "    else:\n",
    "        return a*fact(a-1)\n",
    "print(fact(5))"
   ]
  },
  {
   "cell_type": "code",
   "execution_count": 5,
   "id": "21eba427",
   "metadata": {},
   "outputs": [
    {
     "name": "stdout",
     "output_type": "stream",
     "text": [
      "Enter any number:12321\n",
      "number is palindrome\n"
     ]
    }
   ],
   "source": [
    "# palindrome using for loop\n",
    "\n",
    "number=input(\"Enter any number:\")\n",
    "i=0\n",
    "for i in range(len(number)):\n",
    "    if number[i]!=number[i-1]:\n",
    "        print('number is not palindrome')\n",
    "        break\n",
    "    else:\n",
    "        print('number is palindrome')\n",
    "        break"
   ]
  },
  {
   "cell_type": "code",
   "execution_count": 7,
   "id": "dfd4e094",
   "metadata": {},
   "outputs": [
    {
     "name": "stdout",
     "output_type": "stream",
     "text": [
      "Enter first number: 1\n",
      "Enter first number: 2\n",
      "Enter the number of elements: 6\n",
      "1 2 3 5 8 13 "
     ]
    }
   ],
   "source": [
    "#Fibonacci Series\n",
    "\n",
    "a = int(input(\"Enter first number: \"))\n",
    "b = int(input(\"Enter first number: \"))\n",
    "n = int(input(\"Enter the number of elements: \"))\n",
    "print(a,b, end=\" \")\n",
    "while n-2:\n",
    "    c = a+b\n",
    "    a = b\n",
    "    b = c\n",
    "    print(c, end=\" \")\n",
    "    n = n-1"
   ]
  },
  {
   "cell_type": "code",
   "execution_count": 2,
   "id": "421ef0f2",
   "metadata": {},
   "outputs": [
    {
     "name": "stdout",
     "output_type": "stream",
     "text": [
      "Enter a number: 153\n",
      "Armstrong\n"
     ]
    }
   ],
   "source": [
    "# Armstrong\n",
    "\n",
    "num = int(input(\"Enter a number: \"))\n",
    "s = 0\n",
    "temp = num\n",
    "while temp > 0:\n",
    "    c = temp%10\n",
    "    s+=c**3\n",
    "    temp//= 10\n",
    "if num == s:\n",
    "    print(\"Armstrong\")\n",
    "else:\n",
    "    print(\"Number is not Armstrong\")"
   ]
  },
  {
   "cell_type": "code",
   "execution_count": 29,
   "id": "8b669b28",
   "metadata": {},
   "outputs": [
    {
     "name": "stdout",
     "output_type": "stream",
     "text": [
      "Enter a number to check: 23\n",
      "Prime number\n"
     ]
    }
   ],
   "source": [
    "# Prime Number\n",
    "\n",
    "number = int(input(\"Enter a number to check: \"))\n",
    "for i in range(i+1, number):\n",
    "    if number%i==0:\n",
    "        print(\"Not a prime number\")\n",
    "    else:\n",
    "        print(\"Prime number\")\n",
    "    break"
   ]
  },
  {
   "cell_type": "code",
   "execution_count": 30,
   "id": "af91db72",
   "metadata": {},
   "outputs": [
    {
     "name": "stdout",
     "output_type": "stream",
     "text": [
      "12\n"
     ]
    }
   ],
   "source": [
    "# Calculator\n",
    "\n",
    "def add(a,b):\n",
    "    return a+b\n",
    "\n",
    "def sub (a,b):\n",
    "    return a-b\n",
    "\n",
    "def mul(a,b):\n",
    "    return a*b\n",
    "\n",
    "def divide(a,b):\n",
    "    return a/b\n",
    "\n",
    "def si(p,r,t):\n",
    "    return (p*r*t)/100\n",
    "\n",
    "def ci (P,R,T):\n",
    "    return P*pow((1+R/100),T)\n",
    "\n",
    "def sqr(num):\n",
    "    return num**2\n",
    "\n",
    "def st(num):\n",
    "    return num**0.5\n",
    "\n",
    "print(add(10,2))"
   ]
  },
  {
   "cell_type": "code",
   "execution_count": 16,
   "id": "412e9202",
   "metadata": {},
   "outputs": [
    {
     "name": "stdout",
     "output_type": "stream",
     "text": [
      "Enter the number of rows: 8\n",
      "*  \n",
      "* *  \n",
      "* * *  \n",
      "* * * *  \n",
      "* * * * *  \n",
      "* * * * * *  \n",
      "* * * * * * *  \n",
      "* * * * * * * *  \n",
      "* * * * * * * *  \n",
      "* * * * * * *  \n",
      "* * * * * *  \n",
      "* * * * *  \n",
      "* * * *  \n",
      "* * *  \n",
      "* *  \n",
      "*  \n",
      " \n"
     ]
    }
   ],
   "source": [
    "#Right Start Pattern Program\n",
    "\n",
    "rows = int(input(\"Enter the number of rows: \"))  \n",
    "for i in range(0, rows):  \n",
    "    for j in range(0, i + 1):  \n",
    "        print(\"*\", end=' ')   \n",
    "    print(\" \")  \n",
    "for i in range(rows + 1, 0, -1):  \n",
    "    for j in range(0, i - 1):  \n",
    "        print(\"*\", end=' ')  \n",
    "    print(\" \")  "
   ]
  },
  {
   "cell_type": "code",
   "execution_count": 18,
   "id": "b50237eb",
   "metadata": {},
   "outputs": [
    {
     "name": "stdout",
     "output_type": "stream",
     "text": [
      "Enter the number or rows: 5\n",
      "0 1 2 3 4 5  \n",
      "0 1 2 3 4  \n",
      "0 1 2 3  \n",
      "0 1 2  \n",
      "0 1  \n"
     ]
    }
   ],
   "source": [
    "# Inverted Half Pyramid Number Pattern\n",
    "\n",
    "rows = int(input(\"Enter the number or rows: \"))\n",
    "for i in range(rows, 0, -1):\n",
    "\n",
    "    for j in range(0, i + 1):\n",
    "\n",
    "        print(j, end=\" \")\n",
    "\n",
    "    print(\" \")"
   ]
  },
  {
   "cell_type": "code",
   "execution_count": 2,
   "id": "f845a131",
   "metadata": {},
   "outputs": [
    {
     "name": "stdout",
     "output_type": "stream",
     "text": [
      "Enter the number or rows: 6\n",
      "0  \n",
      "0 1  \n",
      "0 2 4  \n",
      "0 3 6 9  \n",
      "0 4 8 12 16  \n",
      "0 5 10 15 20 25  \n"
     ]
    }
   ],
   "source": [
    "#Pyramid of Horizontal Tables\n",
    "\n",
    "rows = int(input(\"Enter the number or rows: \"))\n",
    "for i in range(0, rows):\n",
    "\n",
    "    for j in range(0, i + 1):\n",
    "\n",
    "        print(i * j, end=\" \")\n",
    "\n",
    "    print(\" \")"
   ]
  },
  {
   "cell_type": "code",
   "execution_count": 9,
   "id": "a343eff7",
   "metadata": {},
   "outputs": [
    {
     "name": "stdout",
     "output_type": "stream",
     "text": [
      "Enter how many elements you want to enter: 6\n",
      "Enter Number: 3\n",
      "Enter Number: 5\n",
      "Enter Number: 6\n",
      "Enter Number: 7\n",
      "Enter Number: 9\n",
      "Enter Number: 11\n",
      "Total Even Numbers:  1\n",
      "Total Odd Numbers:  5\n"
     ]
    }
   ],
   "source": [
    "# Count Total Even and Odd Numbers in a list\n",
    "\n",
    "a = []\n",
    "size = int(input(\"Enter how many elements you want to enter: \"))\n",
    "for i in range(size):\n",
    "    val = int(input(\"Enter Number: \"))\n",
    "    a.append(val)\n",
    "    even = 0\n",
    "    odd = 0\n",
    "for i in range(size):\n",
    "    if(a[i]%2==0):\n",
    "        even = even+1\n",
    "    else:\n",
    "        odd = odd+1\n",
    "print(\"Total Even Numbers: \", even)\n",
    "print(\"Total Odd Numbers: \", odd)"
   ]
  },
  {
   "cell_type": "code",
   "execution_count": 15,
   "id": "96b33673",
   "metadata": {},
   "outputs": [
    {
     "name": "stdout",
     "output_type": "stream",
     "text": [
      "Enter the size of List: 5\n",
      "Enter Number: 2\n",
      "Enter Number: 4\n",
      "Enter Number: 6\n",
      "Enter Number: 8\n",
      "Enter Number: 5\n",
      "Enter a number to search: 6\n",
      "Number is fount at:  3  position\n"
     ]
    }
   ],
   "source": [
    "# Find a Particular number in a list\n",
    "\n",
    "a = []\n",
    "size = int(input(\"Enter the size of List: \"))\n",
    "for i in range(size):\n",
    "    val = int(input(\"Enter Number: \"))\n",
    "    a.append(val)\n",
    "number = int(input(\"Enter a number to search: \"))\n",
    "flag = 0\n",
    "for i in range(size):\n",
    "    if a[i]==number:\n",
    "        flag = 1\n",
    "        pos = i+1\n",
    "        break\n",
    "if flag==1:\n",
    "    print(\"Number is fount at: \" ,pos, \" position\")\n",
    "else:\n",
    "    print(\"Element not found\")"
   ]
  },
  {
   "cell_type": "code",
   "execution_count": 1,
   "id": "66cb18c6",
   "metadata": {},
   "outputs": [
    {
     "name": "stdout",
     "output_type": "stream",
     "text": [
      "Enter the size of list: 5\n",
      "Enter values: 2\n",
      "Enter values: 55\n",
      "Enter values: 6\n",
      "Enter values: 2\n",
      "Enter values: 1\n",
      "Enter a number to count frequency: 1\n",
      "total frequency of number is:  1\n"
     ]
    }
   ],
   "source": [
    "# Count Frequancy of a Number\n",
    "\n",
    "a = []\n",
    "size = int(input(\"Enter the size of list: \"))\n",
    "for i in range(size):\n",
    "    val = int(input(\"Enter values: \"))\n",
    "    a.append(val)\n",
    "number = int(input(\"Enter a number to count frequency: \"))\n",
    "count = 0\n",
    "for i in range(size):\n",
    "    if(a[i]==number):\n",
    "        count = count+1\n",
    "print(\"total frequency of number is: \",count)\n"
   ]
  },
  {
   "cell_type": "markdown",
   "id": "1312cdfc",
   "metadata": {},
   "source": [
    "# 1. Find max no. in a list"
   ]
  },
  {
   "cell_type": "code",
   "execution_count": 4,
   "id": "bc4691df",
   "metadata": {},
   "outputs": [
    {
     "name": "stdout",
     "output_type": "stream",
     "text": [
      "Enter the size of List: 5\n",
      "Enter Values: 1\n",
      "Enter Values: 3\n",
      "Enter Values: 19\n",
      "Enter Values: 9\n",
      "Enter Values: 10\n",
      "Maximum number is:  19\n"
     ]
    }
   ],
   "source": [
    "a = []\n",
    "size = int(input(\"Enter the size of List: \"))\n",
    "for i in range(size):\n",
    "    val = int(input(\"Enter Values: \"))\n",
    "    a.append(val)\n",
    "max = a[0]\n",
    "for i in range(size):\n",
    "    if(a[i]>max):\n",
    "        max = a[i]\n",
    "print(\"Maximum number is: \",max)\n"
   ]
  },
  {
   "cell_type": "markdown",
   "id": "ed28be9b",
   "metadata": {},
   "source": [
    "# 2. Find min no. in a list"
   ]
  },
  {
   "cell_type": "code",
   "execution_count": 8,
   "id": "04bc5d4b",
   "metadata": {},
   "outputs": [
    {
     "name": "stdout",
     "output_type": "stream",
     "text": [
      "Enter the size of List: 6\n",
      "Enter Values: 30\n",
      "Enter Values: 57\n",
      "Enter Values: 34\n",
      "Enter Values: 1\n",
      "Enter Values: 67\n",
      "Enter Values: 39\n",
      "Minimum number is:  1\n"
     ]
    }
   ],
   "source": [
    "a = []\n",
    "size = int(input(\"Enter the size of List: \"))\n",
    "for i in range(size):\n",
    "    val = int(input(\"Enter Values: \"))\n",
    "    a.append(val)\n",
    "min = a[0]\n",
    "for i in range(size):\n",
    "    if(a[i]<min):\n",
    "        min = a[i]\n",
    "print(\"Minimum number is: \",min)"
   ]
  },
  {
   "cell_type": "markdown",
   "id": "793dfa53",
   "metadata": {},
   "source": [
    "# Printing stars in opposite Pyramid shape"
   ]
  },
  {
   "cell_type": "code",
   "execution_count": null,
   "id": "cdcb45e4",
   "metadata": {},
   "outputs": [],
   "source": [
    "n = int(input(\"Enter Number of rows: \"))\n",
    "for i in range(n):\n",
    "    for j in range(i):\n",
    "        print(\" \",end=\"\")\n",
    "    for j in range(2*(n-i)-1):\n",
    "        print(\"*\",end=\"\")\n",
    "    print(\"\")"
   ]
  },
  {
   "cell_type": "code",
   "execution_count": 1,
   "id": "44611aca",
   "metadata": {},
   "outputs": [
    {
     "name": "stdout",
     "output_type": "stream",
     "text": [
      "Enter the number of rows: 5\n",
      "*********\n",
      "_******\n",
      "__***\n",
      "___\n",
      "____\n"
     ]
    }
   ],
   "source": [
    "n = int(input(\"Enter the number of rows: \"))\n",
    "i = 1\n",
    "while n > 0:\n",
    "    b = 1\n",
    "    while b < i:\n",
    "        print(\"_\",end=\"\")\n",
    "        b = b+1\n",
    "    j = 1\n",
    "    while j<=(n * 2)-i:\n",
    "        print(\"*\",end=\"\")\n",
    "        j = j+1\n",
    "    print(\"\")\n",
    "    n = n-1\n",
    "    i = i+1"
   ]
  },
  {
   "cell_type": "markdown",
   "id": "d437092e",
   "metadata": {},
   "source": [
    "# 1. Find sum of digits of a given number: "
   ]
  },
  {
   "cell_type": "code",
   "execution_count": 2,
   "id": "90b4db28",
   "metadata": {},
   "outputs": [
    {
     "name": "stdout",
     "output_type": "stream",
     "text": [
      "Enter a numer: 5555\n",
      "Sum of digits=  20\n"
     ]
    }
   ],
   "source": [
    "num = int(input(\"Enter a numer: \"))\n",
    "sum = 0\n",
    "while num>0:\n",
    "    sum = sum+num%10\n",
    "    num = num//10\n",
    "print(\"Sum of digits= \",sum)"
   ]
  },
  {
   "cell_type": "markdown",
   "id": "55ee255b",
   "metadata": {},
   "source": [
    "# 2. Find sum of square of digits of a given number:"
   ]
  },
  {
   "cell_type": "code",
   "execution_count": 5,
   "id": "80c3a7ea",
   "metadata": {},
   "outputs": [
    {
     "name": "stdout",
     "output_type": "stream",
     "text": [
      "Enter a numer: 123\n",
      "Sum of square of digits=  14\n"
     ]
    }
   ],
   "source": [
    "num = int(input(\"Enter a numer: \"))\n",
    "sum = 0\n",
    "while num>0:\n",
    "    sum = sum+(num%10)*(num%10)\n",
    "    num = num//10\n",
    "print(\"Sum of square of digits= \",sum)"
   ]
  },
  {
   "cell_type": "markdown",
   "id": "fb8c2829",
   "metadata": {},
   "source": [
    "# 3. Find product of digits of a given number:"
   ]
  },
  {
   "cell_type": "code",
   "execution_count": null,
   "id": "87d71a7c",
   "metadata": {},
   "outputs": [],
   "source": [
    "num = int(input(\"Enter a numer: \"))\n",
    "prod = 1\n",
    "while num>0:\n",
    "    prod = prod*num%10\n",
    "    num = num//10\n",
    "print(\"Product of digits= \",prod)"
   ]
  },
  {
   "cell_type": "markdown",
   "id": "4fa804dd",
   "metadata": {},
   "source": [
    "# Program to find reverse value of a given Number"
   ]
  },
  {
   "cell_type": "code",
   "execution_count": null,
   "id": "a082acad",
   "metadata": {},
   "outputs": [],
   "source": [
    "i = int(input(\"Enter a number: \"))\n",
    "rev = 0\n",
    "while(i > 0):\n",
    "    rev = (rev*10) + i%10\n",
    "    i = i//10\n",
    "print(\"Reverse of the number= \",rev)"
   ]
  },
  {
   "cell_type": "code",
   "execution_count": 1,
   "id": "124b5987",
   "metadata": {},
   "outputs": [
    {
     "name": "stdout",
     "output_type": "stream",
     "text": [
      "Enter the list size: 5\n",
      "Enter values: 1\n",
      "Enter values: 2\n",
      "Enter values: 3\n",
      "Enter values: 4\n",
      "Enter values: 5\n",
      "Enter a number to find: 3\n",
      "Number is found at 3 position\n"
     ]
    }
   ],
   "source": [
    "#Finding a particular Number\n",
    "\n",
    "a = []\n",
    "size = int(input(\"Enter the list size: \"))\n",
    "for i in range(size):\n",
    "    val = int(input(\"Enter values: \"))\n",
    "    a.append(val)\n",
    "number = int(input('Enter a number to find: '))\n",
    "flag = 0\n",
    "for i in range(size):\n",
    "    if a[i] == number:\n",
    "        flag = 1\n",
    "        pos = i+1\n",
    "        break\n",
    "if flag == 1:\n",
    "    print(\"Number is found at\",pos,\"position\")\n",
    "else:\n",
    "    print(\"Number is not available\")"
   ]
  },
  {
   "cell_type": "markdown",
   "id": "ba105a00",
   "metadata": {},
   "source": [
    "# 1. Program to check Entered number is perfect or not!"
   ]
  },
  {
   "cell_type": "code",
   "execution_count": 3,
   "id": "b6296c17",
   "metadata": {},
   "outputs": [
    {
     "name": "stdout",
     "output_type": "stream",
     "text": [
      "Enter a number: 6\n",
      "6 is not perfect number\n"
     ]
    }
   ],
   "source": [
    "num = int(input(\"Enter a number: \"))\n",
    "result = 0\n",
    "for i in range(1, num):\n",
    "    if num%2 == 0:\n",
    "        result = result+1\n",
    "if result == num:\n",
    "    print(num, \"is perfect number\")\n",
    "else:\n",
    "    print(num, \"is not perfect number\")"
   ]
  },
  {
   "cell_type": "markdown",
   "id": "7eea6e3e",
   "metadata": {},
   "source": [
    "# 2. Program to print perfect numbers in given range!"
   ]
  },
  {
   "cell_type": "code",
   "execution_count": 14,
   "id": "14c44379",
   "metadata": {},
   "outputs": [
    {
     "name": "stdout",
     "output_type": "stream",
     "text": [
      "Enter lower limit: 1\n",
      "Enter upper limit: 30\n",
      "Total perfect numbers between 1 and  30  are:\n",
      "6 28 "
     ]
    }
   ],
   "source": [
    "lower = int(input(\"Enter lower limit: \"))\n",
    "upper = int(input(\"Enter upper limit: \"))\n",
    "print(\"Total perfect numbers between\",lower,\"and \",upper,\" are:\")\n",
    "for num in range(lower,upper+1):\n",
    "    result = 0\n",
    "    for i in range(1,num):\n",
    "        if (num%i) == 0:\n",
    "            result = result+i\n",
    "    if (num == result):\n",
    "        print(num,end=\" \")"
   ]
  },
  {
   "cell_type": "markdown",
   "id": "f1067eb9",
   "metadata": {},
   "source": [
    "# 3. Program to reverse a string using for loop!"
   ]
  },
  {
   "cell_type": "code",
   "execution_count": 18,
   "id": "54179b53",
   "metadata": {},
   "outputs": [
    {
     "name": "stdout",
     "output_type": "stream",
     "text": [
      "Enter a string:abc\n",
      "Entered string is:  abc\n",
      "Reversed String is:  cba\n"
     ]
    }
   ],
   "source": [
    "def reverse(string):\n",
    "    reversed_string = \"\"\n",
    "    for i in string:\n",
    "        reversed_string = i+reversed_string\n",
    "    print(\"Reversed String is: \",reversed_string)\n",
    "string = input(\"Enter a string:\")\n",
    "print(\"Entered string is: \",string)\n",
    "reverse(string)"
   ]
  },
  {
   "cell_type": "code",
   "execution_count": 24,
   "id": "03d0a118",
   "metadata": {},
   "outputs": [
    {
     "name": "stdout",
     "output_type": "stream",
     "text": [
      "I am Mayavati...\n",
      "I am Kunal (Maya's husband)\n",
      "I am Kunal's brother\n",
      "I am Maya's sister\n"
     ]
    }
   ],
   "source": [
    "class MayaVati:\n",
    "    def m1(self):\n",
    "        print(\"I am Mayavati...\")\n",
    "\n",
    "class Kunal(MayaVati):\n",
    "    def m2(self):\n",
    "        #self.m1()\n",
    "        print(\"I am Kunal (Maya's husband)\")\n",
    "\n",
    "class Bro(MayaVati):\n",
    "    def m3(self):\n",
    "        #self.m1()\n",
    "        print(\"I am Kunal's brother\")\n",
    "\n",
    "class Sis(Kunal,Bro):\n",
    "    def m4(self):\n",
    "#         self.m2()\n",
    "#         self.m3()\n",
    "        print(\"I am Maya's sister\")\n",
    "\n",
    "        # self.m1()\n",
    "        # self.m2()\n",
    "        # self.m3()\n",
    "        # self.m4()\n",
    "\n",
    "obj = Sis()\n",
    "obj.m1()\n",
    "obj.m2()\n",
    "obj.m3()\n",
    "obj.m4()\n"
   ]
  },
  {
   "cell_type": "markdown",
   "id": "550b80a5",
   "metadata": {},
   "source": [
    "# 2. Sorting list in ascending order!"
   ]
  },
  {
   "cell_type": "code",
   "execution_count": 26,
   "id": "62769395",
   "metadata": {},
   "outputs": [
    {
     "name": "stdout",
     "output_type": "stream",
     "text": [
      "Original list is:  [1, 5, 3, 5, 2, 7, 8, 9]\n",
      "Sorted list is: [1, 2, 3, 5, 5, 7, 8, 9]\n"
     ]
    }
   ],
   "source": [
    "list1 = [1,5,3,5,2,7,8,9]\n",
    "i = 0\n",
    "print(\"Original list is: \",list1)\n",
    "for i in range(i,len(list1)):\n",
    "    for j in range(i+1,len(list1)):\n",
    "        if (list1[i]>list1[j]):\n",
    "            temp = list1[i]\n",
    "            list1[i] = list1[j]\n",
    "            list1[j] = temp\n",
    "print(\"Sorted list is:\",list1)\n",
    "            "
   ]
  },
  {
   "cell_type": "markdown",
   "id": "58f10aac",
   "metadata": {},
   "source": [
    "# 3. Sorting list in descending order!¶\n"
   ]
  },
  {
   "cell_type": "code",
   "execution_count": 25,
   "id": "b71a2f44",
   "metadata": {},
   "outputs": [
    {
     "name": "stdout",
     "output_type": "stream",
     "text": [
      "Original list is: [2, 4, 1, 5, 6, 3, 9, 8]\n",
      "Sorted list is:  [9, 8, 6, 5, 4, 3, 2, 1]\n"
     ]
    }
   ],
   "source": [
    "list2 = [2,4,1,5,6,3,9,8]\n",
    "i = 0\n",
    "print(\"Original list is:\",list2)\n",
    "for i in range(i,len(list2)):\n",
    "    for j in range(i+1,len(list2)):\n",
    "        if(list2[i]<list2[j]):\n",
    "            temp = list2[i]\n",
    "            list2[i] = list2[j]\n",
    "            list2[j] = temp\n",
    "print(\"Sorted list is: \",list2)\n"
   ]
  },
  {
   "cell_type": "code",
   "execution_count": 38,
   "id": "7878b9df",
   "metadata": {},
   "outputs": [
    {
     "name": "stdout",
     "output_type": "stream",
     "text": [
      "['-2', '1', '5', '6', '8']\n"
     ]
    }
   ],
   "source": [
    "def sorting(string):\n",
    "    temp = string.split()\n",
    "    temp.sort()\n",
    "    return temp\n",
    "\n",
    "print(sorting(\"1 6 -2 8 5\"))"
   ]
  },
  {
   "cell_type": "code",
   "execution_count": 50,
   "id": "89016fd6",
   "metadata": {},
   "outputs": [
    {
     "name": "stdout",
     "output_type": "stream",
     "text": [
      "Enter a number: 5\n",
      "120\n"
     ]
    }
   ],
   "source": [
    "num = int(input(\"Enter a number: \"))\n",
    "fact = 1\n",
    "for i in range(1,num+1):\n",
    "    fact = fact*i\n",
    "print(fact)"
   ]
  },
  {
   "cell_type": "markdown",
   "id": "92eccb18",
   "metadata": {},
   "source": [
    "# 1. Program to swap first and last element of a list!"
   ]
  },
  {
   "cell_type": "code",
   "execution_count": 54,
   "id": "27278882",
   "metadata": {},
   "outputs": [
    {
     "name": "stdout",
     "output_type": "stream",
     "text": [
      "List before swapping:  [12, 13, 35, 10, 20, 30, 40]\n",
      "List after swapping:  [40, 13, 35, 10, 20, 30, 12]\n"
     ]
    }
   ],
   "source": [
    "mylist = [12,13,35,10,20,30,40]\n",
    "print(\"List before swapping: \",mylist)\n",
    "size = len(mylist)\n",
    "temp = mylist[0]\n",
    "mylist[0] = mylist[size-1]\n",
    "mylist[size-1] = temp\n",
    "print(\"List after swapping: \",mylist)"
   ]
  },
  {
   "cell_type": "markdown",
   "id": "35ac71fe",
   "metadata": {},
   "source": [
    "# 2. Program to swap any two elements of a list!"
   ]
  },
  {
   "cell_type": "code",
   "execution_count": 59,
   "id": "8dda3547",
   "metadata": {},
   "outputs": [
    {
     "name": "stdout",
     "output_type": "stream",
     "text": [
      "List before swaping:  [1, 2, 3, 4, 5, 6]\n",
      "List after swaping:  [1, 2, 5, 4, 3, 6]\n"
     ]
    }
   ],
   "source": [
    "mylist = [1,2,3,4,5,6]\n",
    "print(\"List before swaping: \",mylist)\n",
    "pos1 = 2\n",
    "pos2 = 4\n",
    "mylist[pos1],mylist[pos2] = mylist[pos2],mylist[pos1]\n",
    "# mylist[pos2] = mylist[pos1]\n",
    "print(\"List after swaping: \",mylist)"
   ]
  },
  {
   "cell_type": "markdown",
   "id": "0a42bd1d",
   "metadata": {},
   "source": [
    "# 3. Program to remove nth occurance of the word from a list!"
   ]
  },
  {
   "cell_type": "code",
   "execution_count": 8,
   "id": "65615523",
   "metadata": {},
   "outputs": [
    {
     "name": "stdout",
     "output_type": "stream",
     "text": [
      "Original list is:  ['apple', 'banana', 'apple']\n",
      "Updated list is:  ['apple', 'banana']\n"
     ]
    }
   ],
   "source": [
    "mylist = [\"apple\",\"banana\",\"apple\"]\n",
    "print(\"Original list is: \",mylist)\n",
    "n = 2\n",
    "word = \"apple\"\n",
    "count = 0\n",
    "for i in range(0,len(mylist)):\n",
    "    if (mylist[i] == word):\n",
    "        count = count+1\n",
    "        if count == n:\n",
    "            del mylist[i]\n",
    "print(\"Updated list is: \",mylist)"
   ]
  },
  {
   "cell_type": "markdown",
   "id": "fb1348b9",
   "metadata": {},
   "source": [
    "# 1. Program to find sum of all elements in a list!"
   ]
  },
  {
   "cell_type": "code",
   "execution_count": 10,
   "id": "bf8ae386",
   "metadata": {
    "scrolled": true
   },
   "outputs": [
    {
     "name": "stdout",
     "output_type": "stream",
     "text": [
      "Sum of all elements:  21\n"
     ]
    }
   ],
   "source": [
    "mylist = [1,2,3,4,5,6]\n",
    "total = 0\n",
    "\n",
    "# for i in mylist:\n",
    "#     total = total+i\n",
    "    \n",
    "for i in range(0,len(mylist)):\n",
    "    total = total+mylist[i]\n",
    "print(\"Sum of all elements: \",total)"
   ]
  },
  {
   "cell_type": "markdown",
   "id": "64756011",
   "metadata": {},
   "source": [
    "# 2. Program to multiply all numbers in a list!"
   ]
  },
  {
   "cell_type": "code",
   "execution_count": null,
   "id": "e76dabd8",
   "metadata": {},
   "outputs": [],
   "source": [
    "# mylist = [2,3,4,5]\n",
    "total = 1\n",
    "for i in mylist:\n",
    "    total = total * i\n",
    "print(\"Multiplication of all numbers is: \",total)"
   ]
  },
  {
   "cell_type": "markdown",
   "id": "6cbb67f6",
   "metadata": {},
   "source": [
    "# 3. Program to find out GCD of two positive numbers!"
   ]
  },
  {
   "cell_type": "code",
   "execution_count": 1,
   "id": "73754f2b",
   "metadata": {},
   "outputs": [
    {
     "name": "stdout",
     "output_type": "stream",
     "text": [
      "Enter first number: 2\n",
      "Enter second number: 18\n",
      "2\n"
     ]
    }
   ],
   "source": [
    "def findGCD(a,b):\n",
    "    if b == 0:\n",
    "        return a\n",
    "    else:\n",
    "        return findGCD(b,a%b)\n",
    "num1 = int(input(\"Enter first number: \"))\n",
    "num2 = int(input(\"Enter second number: \"))\n",
    "print(findGCD(num1,num2))"
   ]
  },
  {
   "cell_type": "markdown",
   "id": "a68dc9d3",
   "metadata": {},
   "source": [
    "# 1. Function to print next Prime!"
   ]
  },
  {
   "cell_type": "code",
   "execution_count": 13,
   "id": "9397ad2e",
   "metadata": {},
   "outputs": [
    {
     "name": "stdout",
     "output_type": "stream",
     "text": [
      "Enter your number: 20\n",
      "Next prime of 20 is:\n",
      "23\n"
     ]
    }
   ],
   "source": [
    "def nextPrime(n):\n",
    "    while True:\n",
    "        n+=1\n",
    "        for i in range(2,n):\n",
    "            if n%i == 0:\n",
    "                break\n",
    "        else:\n",
    "            return n\n",
    "n = int(input(\"Enter your number: \"))\n",
    "print(\"Next prime of\",n,\"is:\")\n",
    "print(nextPrime(n))"
   ]
  },
  {
   "cell_type": "markdown",
   "id": "5d3358bc",
   "metadata": {},
   "source": [
    "# 2. Program to arrange three words in Dictionary order!"
   ]
  },
  {
   "cell_type": "code",
   "execution_count": 22,
   "id": "1dab3dbb",
   "metadata": {},
   "outputs": [
    {
     "name": "stdout",
     "output_type": "stream",
     "text": [
      "Enter three city names: \n",
      "Noida\n",
      "Delhi\n",
      "Pune\n",
      "\n",
      "Delhi Noida Pune\n"
     ]
    }
   ],
   "source": [
    "print(\"Enter three city names: \")\n",
    "a,b,c = input(),input(),input()\n",
    "print(\"\")\n",
    "if a<b<c:\n",
    "    print(a,b,c)\n",
    "elif a<c<b:\n",
    "    print(a,c,b)\n",
    "elif b<a<c:\n",
    "    print(b,a,c)\n",
    "elif b<c<a:\n",
    "    print(b,c,a)\n",
    "elif c<a<b:\n",
    "    print(c,a,b)\n",
    "else:\n",
    "    print(c,b,a)\n",
    "    "
   ]
  },
  {
   "cell_type": "markdown",
   "id": "c1b79fde",
   "metadata": {},
   "source": [
    "# 3. Program to arrange three words in Dictionary order using min() !"
   ]
  },
  {
   "cell_type": "code",
   "execution_count": 1,
   "id": "57423301",
   "metadata": {},
   "outputs": [
    {
     "name": "stdout",
     "output_type": "stream",
     "text": [
      "Enter three city names: \n"
     ]
    },
    {
     "ename": "KeyboardInterrupt",
     "evalue": "Interrupted by user",
     "output_type": "error",
     "traceback": [
      "\u001b[1;31m---------------------------------------------------------------------------\u001b[0m",
      "\u001b[1;31mKeyboardInterrupt\u001b[0m                         Traceback (most recent call last)",
      "\u001b[1;32m<ipython-input-1-d0222e222f27>\u001b[0m in \u001b[0;36m<module>\u001b[1;34m\u001b[0m\n\u001b[0;32m      1\u001b[0m \u001b[0mprint\u001b[0m\u001b[1;33m(\u001b[0m\u001b[1;34m\"Enter three city names: \"\u001b[0m\u001b[1;33m)\u001b[0m\u001b[1;33m\u001b[0m\u001b[1;33m\u001b[0m\u001b[0m\n\u001b[1;32m----> 2\u001b[1;33m \u001b[0ma\u001b[0m\u001b[1;33m,\u001b[0m\u001b[0mb\u001b[0m\u001b[1;33m,\u001b[0m\u001b[0mc\u001b[0m \u001b[1;33m=\u001b[0m \u001b[0minput\u001b[0m\u001b[1;33m(\u001b[0m\u001b[1;33m)\u001b[0m\u001b[1;33m,\u001b[0m\u001b[0minput\u001b[0m\u001b[1;33m(\u001b[0m\u001b[1;33m)\u001b[0m\u001b[1;33m,\u001b[0m\u001b[0minput\u001b[0m\u001b[1;33m(\u001b[0m\u001b[1;33m)\u001b[0m\u001b[1;33m\u001b[0m\u001b[1;33m\u001b[0m\u001b[0m\n\u001b[0m\u001b[0;32m      3\u001b[0m \u001b[0mx\u001b[0m \u001b[1;33m=\u001b[0m \u001b[0mmin\u001b[0m\u001b[1;33m(\u001b[0m\u001b[0ma\u001b[0m\u001b[1;33m,\u001b[0m\u001b[0mb\u001b[0m\u001b[1;33m,\u001b[0m\u001b[0mc\u001b[0m\u001b[1;33m)\u001b[0m\u001b[1;33m\u001b[0m\u001b[1;33m\u001b[0m\u001b[0m\n\u001b[0;32m      4\u001b[0m \u001b[0mprint\u001b[0m\u001b[1;33m(\u001b[0m\u001b[1;34m\"\"\u001b[0m\u001b[1;33m)\u001b[0m\u001b[1;33m\u001b[0m\u001b[1;33m\u001b[0m\u001b[0m\n\u001b[0;32m      5\u001b[0m \u001b[0mprint\u001b[0m\u001b[1;33m(\u001b[0m\u001b[0mx\u001b[0m\u001b[1;33m)\u001b[0m\u001b[1;33m\u001b[0m\u001b[1;33m\u001b[0m\u001b[0m\n",
      "\u001b[1;32m~\\anaconda3\\lib\\site-packages\\ipykernel\\kernelbase.py\u001b[0m in \u001b[0;36mraw_input\u001b[1;34m(self, prompt)\u001b[0m\n\u001b[0;32m    858\u001b[0m                 \u001b[1;34m\"raw_input was called, but this frontend does not support input requests.\"\u001b[0m\u001b[1;33m\u001b[0m\u001b[1;33m\u001b[0m\u001b[0m\n\u001b[0;32m    859\u001b[0m             )\n\u001b[1;32m--> 860\u001b[1;33m         return self._input_request(str(prompt),\n\u001b[0m\u001b[0;32m    861\u001b[0m             \u001b[0mself\u001b[0m\u001b[1;33m.\u001b[0m\u001b[0m_parent_ident\u001b[0m\u001b[1;33m,\u001b[0m\u001b[1;33m\u001b[0m\u001b[1;33m\u001b[0m\u001b[0m\n\u001b[0;32m    862\u001b[0m             \u001b[0mself\u001b[0m\u001b[1;33m.\u001b[0m\u001b[0m_parent_header\u001b[0m\u001b[1;33m,\u001b[0m\u001b[1;33m\u001b[0m\u001b[1;33m\u001b[0m\u001b[0m\n",
      "\u001b[1;32m~\\anaconda3\\lib\\site-packages\\ipykernel\\kernelbase.py\u001b[0m in \u001b[0;36m_input_request\u001b[1;34m(self, prompt, ident, parent, password)\u001b[0m\n\u001b[0;32m    902\u001b[0m             \u001b[1;32mexcept\u001b[0m \u001b[0mKeyboardInterrupt\u001b[0m\u001b[1;33m:\u001b[0m\u001b[1;33m\u001b[0m\u001b[1;33m\u001b[0m\u001b[0m\n\u001b[0;32m    903\u001b[0m                 \u001b[1;31m# re-raise KeyboardInterrupt, to truncate traceback\u001b[0m\u001b[1;33m\u001b[0m\u001b[1;33m\u001b[0m\u001b[1;33m\u001b[0m\u001b[0m\n\u001b[1;32m--> 904\u001b[1;33m                 \u001b[1;32mraise\u001b[0m \u001b[0mKeyboardInterrupt\u001b[0m\u001b[1;33m(\u001b[0m\u001b[1;34m\"Interrupted by user\"\u001b[0m\u001b[1;33m)\u001b[0m \u001b[1;32mfrom\u001b[0m \u001b[1;32mNone\u001b[0m\u001b[1;33m\u001b[0m\u001b[1;33m\u001b[0m\u001b[0m\n\u001b[0m\u001b[0;32m    905\u001b[0m             \u001b[1;32mexcept\u001b[0m \u001b[0mException\u001b[0m \u001b[1;32mas\u001b[0m \u001b[0me\u001b[0m\u001b[1;33m:\u001b[0m\u001b[1;33m\u001b[0m\u001b[1;33m\u001b[0m\u001b[0m\n\u001b[0;32m    906\u001b[0m                 \u001b[0mself\u001b[0m\u001b[1;33m.\u001b[0m\u001b[0mlog\u001b[0m\u001b[1;33m.\u001b[0m\u001b[0mwarning\u001b[0m\u001b[1;33m(\u001b[0m\u001b[1;34m\"Invalid Message:\"\u001b[0m\u001b[1;33m,\u001b[0m \u001b[0mexc_info\u001b[0m\u001b[1;33m=\u001b[0m\u001b[1;32mTrue\u001b[0m\u001b[1;33m)\u001b[0m\u001b[1;33m\u001b[0m\u001b[1;33m\u001b[0m\u001b[0m\n",
      "\u001b[1;31mKeyboardInterrupt\u001b[0m: Interrupted by user"
     ]
    }
   ],
   "source": [
    "print(\"Enter three city names: \")\n",
    "a,b,c = input(),input(),input()\n",
    "x = min(a,b,c)\n",
    "print(\"\")\n",
    "print(x)\n",
    "if x == a:\n",
    "    print(min(b,c), max(b,c))\n",
    "elif x == b:\n",
    "    print(min(a,c), max(a,c))\n",
    "else:\n",
    "    print(min(a,b), max(a,b))\n",
    "        "
   ]
  },
  {
   "cell_type": "markdown",
   "id": "f4aeb841",
   "metadata": {},
   "source": [
    "# Armstrong numbers in a given range!"
   ]
  },
  {
   "cell_type": "code",
   "execution_count": 9,
   "id": "f8e74a4e",
   "metadata": {},
   "outputs": [
    {
     "name": "stdout",
     "output_type": "stream",
     "text": [
      "Armstrong numbers between 1 and 1000 are:\n",
      "1\n",
      "2\n",
      "3\n",
      "4\n",
      "5\n",
      "6\n",
      "7\n",
      "8\n",
      "9\n",
      "153\n",
      "370\n",
      "371\n",
      "407\n"
     ]
    }
   ],
   "source": [
    "print(\"Armstrong numbers between 1 and 1000 are:\")\n",
    "for i in range(1,1001):\n",
    "    num = i\n",
    "    result = 0\n",
    "    n = len(str(i))\n",
    "    while (i!=0):\n",
    "        digit = i%10\n",
    "        result = result + digit**n\n",
    "        i = i//10\n",
    "    if (num == result):\n",
    "        print(num)"
   ]
  },
  {
   "cell_type": "markdown",
   "id": "1f5cdc1f",
   "metadata": {},
   "source": [
    "# 2. Printing Hollow Right Triangle Star Pattern"
   ]
  },
  {
   "cell_type": "code",
   "execution_count": 1,
   "id": "f1435664",
   "metadata": {},
   "outputs": [
    {
     "name": "stdout",
     "output_type": "stream",
     "text": [
      "*    \n",
      "**   \n",
      "* *  \n",
      "*  * \n",
      "*****\n"
     ]
    }
   ],
   "source": [
    "for row in range(0,5):\n",
    "    for col in range(5):\n",
    "        if col==0 or row==4 or row==col:\n",
    "            print(\"*\",end=\"\")\n",
    "        else:\n",
    "            print(end=\" \")\n",
    "    print(\"\")"
   ]
  },
  {
   "cell_type": "markdown",
   "id": "cc4c5081",
   "metadata": {},
   "source": [
    "# 1. Printing Stars in Hollow Equilateral Triangle Shape"
   ]
  },
  {
   "cell_type": "code",
   "execution_count": 6,
   "id": "87b9ad52",
   "metadata": {},
   "outputs": [
    {
     "name": "stdout",
     "output_type": "stream",
     "text": [
      "   *   \n",
      "  * *  \n",
      " *   * \n",
      "*******\n"
     ]
    }
   ],
   "source": [
    "for row in range(1, 5):\n",
    "    for col in range(1, 8):\n",
    "        if row == 4 or row+col == 5 or col-row == 3:\n",
    "            print(\"*\",end=\"\")\n",
    "        else:\n",
    "            print(end=\" \")\n",
    "    print(\"\")\n"
   ]
  },
  {
   "cell_type": "markdown",
   "id": "78023f38",
   "metadata": {},
   "source": [
    "# 2. Same pattern program with user's input!"
   ]
  },
  {
   "cell_type": "code",
   "execution_count": 1,
   "id": "48346c67",
   "metadata": {},
   "outputs": [
    {
     "name": "stdout",
     "output_type": "stream",
     "text": [
      "Enter number of rows: 7\n",
      "      *      \n",
      "     * *     \n",
      "    *   *    \n",
      "   *     *   \n",
      "  *       *  \n",
      " *         * \n",
      "*************\n"
     ]
    }
   ],
   "source": [
    "n = int(input(\"Enter number of rows: \"))\n",
    "for row in range(1, n+1):\n",
    "    for col in range(1, 2*n):\n",
    "        if row == n or row+col == n+1 or col-row == n-1:\n",
    "            print(\"*\",end=\"\")\n",
    "        else:\n",
    "            print(end=\" \")\n",
    "    print(\"\")"
   ]
  },
  {
   "cell_type": "markdown",
   "id": "99c58f9c",
   "metadata": {},
   "source": [
    "# 1. Printing Stars in Hollow Diamond Shape for 5 rows & 5 cols!"
   ]
  },
  {
   "cell_type": "code",
   "execution_count": 12,
   "id": "50f1cfce",
   "metadata": {},
   "outputs": [
    {
     "name": "stdout",
     "output_type": "stream",
     "text": [
      "  *  \n",
      " * * \n",
      "*   *\n",
      " * * \n",
      "  *  \n"
     ]
    }
   ],
   "source": [
    "for row in range(5):\n",
    "    for col in range(5):\n",
    "        if row+col == 2 or col-row == 2 or row-col == 2 or row+col == 6:\n",
    "            print(\"*\",end=\"\")\n",
    "        else:\n",
    "            print(end=\" \")\n",
    "    print()"
   ]
  },
  {
   "cell_type": "markdown",
   "id": "768bd1e3",
   "metadata": {},
   "source": [
    "# 2 . Printing Stars in Hollow Diamond Shape for 7 rows & 7 cols!"
   ]
  },
  {
   "cell_type": "code",
   "execution_count": 1,
   "id": "2a7f6fb6",
   "metadata": {},
   "outputs": [
    {
     "name": "stdout",
     "output_type": "stream",
     "text": [
      "   *   \n",
      "  * *  \n",
      " *   * \n",
      "*     *\n",
      " *   * \n",
      "  * *  \n",
      "   *   \n"
     ]
    }
   ],
   "source": [
    "for row in range(7):\n",
    "    for col in range(7):\n",
    "        if row+col == 3 or col-row == 3 or row-col == 3 or row+col == 9:\n",
    "            print(\"*\",end=\"\")\n",
    "        else:\n",
    "            print(end=\" \")\n",
    "    print(\"\")"
   ]
  },
  {
   "cell_type": "markdown",
   "id": "20af422b",
   "metadata": {},
   "source": [
    "# 1. Updating Dictionary using list!\n"
   ]
  },
  {
   "cell_type": "code",
   "execution_count": 3,
   "id": "82af037f",
   "metadata": {},
   "outputs": [
    {
     "name": "stdout",
     "output_type": "stream",
     "text": [
      "{1: 'one', 2: 'two', 3: 'three', 4: 'four'}\n"
     ]
    }
   ],
   "source": [
    "d1 = {1:'one',2:'two',3:'three'}\n",
    "l1 = [4,'four']\n",
    "d1.update([l1])\n",
    "print(d1)"
   ]
  },
  {
   "cell_type": "markdown",
   "id": "06efd40d",
   "metadata": {},
   "source": [
    "# 2. Updating Dictionary using tuple!"
   ]
  },
  {
   "cell_type": "code",
   "execution_count": null,
   "id": "2b12023c",
   "metadata": {},
   "outputs": [],
   "source": [
    "d1 = {1:'one',2:'two',3:'three'}\n",
    "t1 = (4,'four')\n",
    "d1.update(t1)\n",
    "print(d1)"
   ]
  }
 ],
 "metadata": {
  "kernelspec": {
   "display_name": "Python 3",
   "language": "python",
   "name": "python3"
  },
  "language_info": {
   "codemirror_mode": {
    "name": "ipython",
    "version": 3
   },
   "file_extension": ".py",
   "mimetype": "text/x-python",
   "name": "python",
   "nbconvert_exporter": "python",
   "pygments_lexer": "ipython3",
   "version": "3.8.8"
  }
 },
 "nbformat": 4,
 "nbformat_minor": 5
}
