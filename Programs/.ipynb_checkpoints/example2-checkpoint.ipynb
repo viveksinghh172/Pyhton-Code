{
 "cells": [
  {
   "cell_type": "code",
   "execution_count": 1,
   "id": "a74fda71",
   "metadata": {},
   "outputs": [
    {
     "name": "stdout",
     "output_type": "stream",
     "text": [
      "hello\n"
     ]
    }
   ],
   "source": [
    "print('hello')"
   ]
  },
  {
   "cell_type": "markdown",
   "id": "677feb76",
   "metadata": {},
   "source": [
    "here ypu can write notes"
   ]
  },
  {
   "cell_type": "code",
   "execution_count": 2,
   "id": "a8ee07b8",
   "metadata": {},
   "outputs": [
    {
     "name": "stdout",
     "output_type": "stream",
     "text": [
      "new\n"
     ]
    }
   ],
   "source": [
    "print('new')"
   ]
  },
  {
   "cell_type": "markdown",
   "id": "b1785aa8",
   "metadata": {},
   "source": [
    "Enter a number from user and check, it is prime or not!"
   ]
  },
  {
   "cell_type": "code",
   "execution_count": 12,
   "id": "0a3bb8c2",
   "metadata": {},
   "outputs": [
    {
     "name": "stdout",
     "output_type": "stream",
     "text": [
      "Enter a number: 6\n"
     ]
    },
    {
     "ename": "SyntaxError",
     "evalue": "'break' outside loop (<ipython-input-12-9dfea9b6ebb1>, line 15)",
     "output_type": "error",
     "traceback": [
      "\u001b[1;36m  File \u001b[1;32m\"<ipython-input-12-9dfea9b6ebb1>\"\u001b[1;36m, line \u001b[1;32m15\u001b[0m\n\u001b[1;33m    break\u001b[0m\n\u001b[1;37m    ^\u001b[0m\n\u001b[1;31mSyntaxError\u001b[0m\u001b[1;31m:\u001b[0m 'break' outside loop\n"
     ]
    }
   ],
   "source": [
    "#num = 29\n",
    "\n",
    "# To take input from the user\n",
    "num = int(input(\"Enter a number: \"))\n",
    "\n",
    "# define a flag variable\n",
    "flag = False\n",
    "\n",
    "# prime numbers are greater than 1\n",
    "if num > 1:\n",
    "    # check for factors\n",
    "    for i in range(2, num):\n",
    "        if (num % 2) == 0:\n",
    "            flag = True\n",
    "            break\n",
    "\n",
    "# check if flag is True\n",
    "if flag:\n",
    "    print(num, \"is not a prime number\")\n",
    "else:\n",
    "    print(num, \"is a prime number\")"
   ]
  },
  {
   "cell_type": "code",
   "execution_count": null,
   "id": "ef07b5f1",
   "metadata": {},
   "outputs": [],
   "source": []
  },
  {
   "cell_type": "code",
   "execution_count": null,
   "id": "46d97f58",
   "metadata": {},
   "outputs": [],
   "source": []
  }
 ],
 "metadata": {
  "kernelspec": {
   "display_name": "Python 3",
   "language": "python",
   "name": "python3"
  },
  "language_info": {
   "codemirror_mode": {
    "name": "ipython",
    "version": 3
   },
   "file_extension": ".py",
   "mimetype": "text/x-python",
   "name": "python",
   "nbconvert_exporter": "python",
   "pygments_lexer": "ipython3",
   "version": "3.8.8"
  }
 },
 "nbformat": 4,
 "nbformat_minor": 5
}
