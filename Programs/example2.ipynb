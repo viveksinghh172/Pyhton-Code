{
 "cells": [
  {
   "cell_type": "code",
   "execution_count": 1,
   "id": "a74fda71",
   "metadata": {},
   "outputs": [
    {
     "name": "stdout",
     "output_type": "stream",
     "text": [
      "hello\n"
     ]
    }
   ],
   "source": [
    "print('hello')"
   ]
  },
  {
   "cell_type": "markdown",
   "id": "677feb76",
   "metadata": {},
   "source": [
    "here ypu can write notes"
   ]
  },
  {
   "cell_type": "code",
   "execution_count": 2,
   "id": "a8ee07b8",
   "metadata": {},
   "outputs": [
    {
     "name": "stdout",
     "output_type": "stream",
     "text": [
      "new\n"
     ]
    }
   ],
   "source": [
    "print('new')"
   ]
  },
  {
   "cell_type": "markdown",
   "id": "ce51da93",
   "metadata": {},
   "source": [
    "# Enter a number from user and check, it is prime or not!"
   ]
  },
  {
   "cell_type": "code",
   "execution_count": 13,
   "id": "adf191b8",
   "metadata": {},
   "outputs": [
    {
     "name": "stdout",
     "output_type": "stream",
     "text": [
      "Enter a number: 6\n",
      "6 is not a prime number\n"
     ]
    }
   ],
   "source": [
    "num = int(input(\"Enter a number: \"))\n",
    "\n",
    "# define a flag variable\n",
    "flag = False\n",
    "\n",
    "# prime numbers are greater than 1\n",
    "if num > 1:\n",
    "    # check for factors\n",
    "    for i in range(2, num):\n",
    "        if (num % 2) == 0:\n",
    "            flag = True\n",
    "            break\n",
    "\n",
    "# check if flag is True\n",
    "if flag:\n",
    "    print(num, \"is not a prime number\")\n",
    "else:\n",
    "    print(num, \"is a prime number\")"
   ]
  },
  {
   "cell_type": "code",
   "execution_count": 2,
   "id": "525b5fa4",
   "metadata": {},
   "outputs": [
    {
     "name": "stdout",
     "output_type": "stream",
     "text": [
      "Please enter any number to find factorial: 5\n",
      "The factorial of 5 = 1\n"
     ]
    }
   ],
   "source": [
    "def factorial(num):#function definition\n",
    "    fact=1\n",
    "    for i in range(1, num+1,):#for loop for finding factorial\n",
    "        fact=fact*i\n",
    "    return fact    #return factorial \n",
    "number=int(input(\"Please enter any number to find factorial: \"))\n",
    "result=factorial(number)#function call and assign the value to variable result\n",
    "print(\"The factorial of %d = %d\"%(number,result))"
   ]
  },
  {
   "cell_type": "code",
   "execution_count": null,
   "id": "59120a3a",
   "metadata": {},
   "outputs": [],
   "source": []
  }
 ],
 "metadata": {
  "kernelspec": {
   "display_name": "Python 3",
   "language": "python",
   "name": "python3"
  },
  "language_info": {
   "codemirror_mode": {
    "name": "ipython",
    "version": 3
   },
   "file_extension": ".py",
   "mimetype": "text/x-python",
   "name": "python",
   "nbconvert_exporter": "python",
   "pygments_lexer": "ipython3",
   "version": "3.8.8"
  }
 },
 "nbformat": 4,
 "nbformat_minor": 5
}
